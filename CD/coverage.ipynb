{
 "cells": [
  {
   "cell_type": "code",
   "execution_count": 5,
   "metadata": {},
   "outputs": [],
   "source": [
    "import pandas as pd\n",
    "import numpy as np\n",
    "\n",
    "pd.set_option('display.float_format', lambda x: '%.5f' % x)"
   ]
  },
  {
   "cell_type": "code",
   "execution_count": 6,
   "metadata": {},
   "outputs": [],
   "source": [
    "commercial_bank = [\n",
    "    '국민은행', '신한은행', '우리은행', '하나은행', '외환은행', '아이엠뱅크'\n",
    "    # '씨티은행', '스탠다드차타드은행'\n",
    "] # https://www.bok.or.kr/portal/main/contents.do?menuNo=200580"
   ]
  },
  {
   "cell_type": "code",
   "execution_count": 7,
   "metadata": {},
   "outputs": [],
   "source": [
    "def info_df(v:pd.DataFrame, date_col:str, columns:list=[]) -> None:\n",
    "    print()\n",
    "    print(v.shape)\n",
    "    print(v.columns)\n",
    "    print(\"date:\", min(v[date_col]), max(v[date_col]))\n",
    "    for c in columns:\n",
    "        print(c, v[c].unique())"
   ]
  },
  {
   "cell_type": "markdown",
   "metadata": {},
   "source": [
    "# Yield "
   ]
  },
  {
   "cell_type": "markdown",
   "metadata": {},
   "source": [
    "\n",
    "\n",
    "\n",
    "\n",
    "\n",
    "* 적격거래(모두 충족시):\n",
    "  1. 신용등급 AAA인 시중은행 CD(잔존만기 45일 이상 165일 이내) 거래\n",
    "  2. 건별 거래량 100억원 이상의 거래\n",
    "  \n",
    "** 표준만기: 2개월물(45∼79일), 3개월물(80∼100일), 4개월물(101∼135일), 5개월물(136∼165일)\n",
    "\n",
    "-  제출된 기초수익률의 상·하 극단값 1개씩을 제외한 평균값으로 산출\n",
    "<!-- https://www.kofiabond.or.kr/websquare/popup.html?w2xPath=/xml/cdplus/BISCdpCalNStepPop.xml&fname=rtnPopup&popupID=cdpCalNStepPop&w2xHome=/xml/&w2xDocumentRoot= -->"
   ]
  },
  {
   "cell_type": "code",
   "execution_count": 61,
   "metadata": {},
   "outputs": [],
   "source": [
    "seibro = pd.read_csv(\"seibro\\seibro_daily_yield.csv\").replace(\"-\", None)\n",
    "seibro[\"date\"] = pd.to_datetime(seibro[\"date\"], format=\"%Y%m%d\").dt.strftime(\"%Y-%m-%d\")\n",
    "\n",
    "seibro[\"10d\"] = seibro[\"10d\"].apply(lambda x:  None if x == 0 else x)\n",
    "seibro[seibro.columns[2:]] = \\\n",
    "    seibro[seibro.columns[2:]].astype(float).round(3)\n",
    "\n",
    "kofia = pd.read_csv(\"kofia\\yield_daily_CD.csv\").replace(\"-\", None)\n",
    "kofia[kofia.columns[1:]] = \\\n",
    "    kofia[kofia.columns[1:]].astype(float).round(3)\n",
    "kofia = kofia[kofia[\"거래일\"]<= \"2023-10-01\"].reset_index(drop=True)\n",
    "\n",
    "\n",
    "kofia_temp = pd.read_excel(\"kofia\\일자별,기간별.xls\").replace(\"-\", None)\n",
    "kofia_temp[kofia_temp.columns[1:]] = \\\n",
    "    kofia_temp[kofia_temp.columns[1:]].astype(float).round(3)"
   ]
  },
  {
   "cell_type": "code",
   "execution_count": 62,
   "metadata": {},
   "outputs": [
    {
     "name": "stdout",
     "output_type": "stream",
     "text": [
      "<class 'pandas.core.frame.DataFrame'>\n",
      "RangeIndex: 502 entries, 0 to 501\n",
      "Data columns (total 3 columns):\n",
      " #   Column                       Non-Null Count  Dtype  \n",
      "---  ------                       --------------  -----  \n",
      " 0   거래일                          502 non-null    object \n",
      " 1   CD수익률                        502 non-null    float64\n",
      " 2   대표수익률(80~100일)\n",
      "(거래량가중평균수익률)  248 non-null    float64\n",
      "dtypes: float64(2), object(1)\n",
      "memory usage: 11.9+ KB\n"
     ]
    }
   ],
   "source": [
    "kofia_temp.info()"
   ]
  },
  {
   "cell_type": "code",
   "execution_count": 63,
   "metadata": {},
   "outputs": [
    {
     "name": "stdout",
     "output_type": "stream",
     "text": [
      "<class 'pandas.core.frame.DataFrame'>\n",
      "RangeIndex: 31120 entries, 0 to 31119\n",
      "Data columns (total 13 columns):\n",
      " #   Column       Non-Null Count  Dtype  \n",
      "---  ------       --------------  -----  \n",
      " 0   date         31120 non-null  object \n",
      " 1   credit_rank  31120 non-null  object \n",
      " 2   1d           31120 non-null  float64\n",
      " 3   7d           17920 non-null  float64\n",
      " 4   10d          13200 non-null  float64\n",
      " 5   15d          17920 non-null  float64\n",
      " 6   1m           31120 non-null  float64\n",
      " 7   2m           31120 non-null  float64\n",
      " 8   3m           31120 non-null  float64\n",
      " 9   4m           31120 non-null  float64\n",
      " 10  6m           31120 non-null  float64\n",
      " 11  1y           31120 non-null  float64\n",
      " 12  2y           31120 non-null  float64\n",
      "dtypes: float64(11), object(2)\n",
      "memory usage: 3.1+ MB\n"
     ]
    }
   ],
   "source": [
    "seibro.info()"
   ]
  },
  {
   "cell_type": "code",
   "execution_count": 64,
   "metadata": {},
   "outputs": [
    {
     "name": "stdout",
     "output_type": "stream",
     "text": [
      "\n",
      "(31120, 13)\n",
      "Index(['date', 'credit_rank', '1d', '7d', '10d', '15d', '1m', '2m', '3m', '4m',\n",
      "       '6m', '1y', '2y'],\n",
      "      dtype='object')\n",
      "date: 2010-01-04 2024-11-29\n",
      "credit_rank ['AAA' 'AA+' 'AA0' 'AA-' 'A+' 'A0' 'A-' 'BBB']\n"
     ]
    }
   ],
   "source": [
    "info_df(seibro, \"date\", [\"credit_rank\"])"
   ]
  },
  {
   "cell_type": "code",
   "execution_count": 65,
   "metadata": {},
   "outputs": [
    {
     "name": "stdout",
     "output_type": "stream",
     "text": [
      "<class 'pandas.core.frame.DataFrame'>\n",
      "RangeIndex: 31120 entries, 0 to 31119\n",
      "Data columns (total 13 columns):\n",
      " #   Column       Non-Null Count  Dtype  \n",
      "---  ------       --------------  -----  \n",
      " 0   date         31120 non-null  object \n",
      " 1   credit_rank  31120 non-null  object \n",
      " 2   1d           31120 non-null  float64\n",
      " 3   7d           17920 non-null  float64\n",
      " 4   10d          13200 non-null  float64\n",
      " 5   15d          17920 non-null  float64\n",
      " 6   1m           31120 non-null  float64\n",
      " 7   2m           31120 non-null  float64\n",
      " 8   3m           31120 non-null  float64\n",
      " 9   4m           31120 non-null  float64\n",
      " 10  6m           31120 non-null  float64\n",
      " 11  1y           31120 non-null  float64\n",
      " 12  2y           31120 non-null  float64\n",
      "dtypes: float64(11), object(2)\n",
      "memory usage: 3.1+ MB\n"
     ]
    }
   ],
   "source": [
    "seibro.info()"
   ]
  },
  {
   "cell_type": "code",
   "execution_count": 66,
   "metadata": {},
   "outputs": [
    {
     "data": {
      "text/html": [
       "<div>\n",
       "<style scoped>\n",
       "    .dataframe tbody tr th:only-of-type {\n",
       "        vertical-align: middle;\n",
       "    }\n",
       "\n",
       "    .dataframe tbody tr th {\n",
       "        vertical-align: top;\n",
       "    }\n",
       "\n",
       "    .dataframe thead th {\n",
       "        text-align: right;\n",
       "    }\n",
       "</style>\n",
       "<table border=\"1\" class=\"dataframe\">\n",
       "  <thead>\n",
       "    <tr style=\"text-align: right;\">\n",
       "      <th></th>\n",
       "      <th>거래일</th>\n",
       "      <th>대표수익률_시중은행</th>\n",
       "      <th>대표수익률_특수은행</th>\n",
       "      <th>최종호가수익률_오전_시중</th>\n",
       "      <th>최종호가수익률_오전_특수</th>\n",
       "      <th>최종호가수익률_오후_시중</th>\n",
       "      <th>최종호가수익률_오후_특수</th>\n",
       "    </tr>\n",
       "  </thead>\n",
       "  <tbody>\n",
       "    <tr>\n",
       "      <th>3000</th>\n",
       "      <td>2015-01-16</td>\n",
       "      <td>NaN</td>\n",
       "      <td>NaN</td>\n",
       "      <td>2.13000</td>\n",
       "      <td>2.11000</td>\n",
       "      <td>2.13000</td>\n",
       "      <td>2.11000</td>\n",
       "    </tr>\n",
       "    <tr>\n",
       "      <th>3001</th>\n",
       "      <td>2015-01-19</td>\n",
       "      <td>NaN</td>\n",
       "      <td>NaN</td>\n",
       "      <td>2.13000</td>\n",
       "      <td>2.11000</td>\n",
       "      <td>2.13000</td>\n",
       "      <td>2.11000</td>\n",
       "    </tr>\n",
       "    <tr>\n",
       "      <th>3002</th>\n",
       "      <td>2015-01-20</td>\n",
       "      <td>NaN</td>\n",
       "      <td>NaN</td>\n",
       "      <td>2.13000</td>\n",
       "      <td>2.11000</td>\n",
       "      <td>2.13000</td>\n",
       "      <td>2.11000</td>\n",
       "    </tr>\n",
       "    <tr>\n",
       "      <th>3003</th>\n",
       "      <td>2015-01-21</td>\n",
       "      <td>NaN</td>\n",
       "      <td>NaN</td>\n",
       "      <td>2.13000</td>\n",
       "      <td>2.11000</td>\n",
       "      <td>2.13000</td>\n",
       "      <td>2.11000</td>\n",
       "    </tr>\n",
       "    <tr>\n",
       "      <th>3004</th>\n",
       "      <td>2015-01-22</td>\n",
       "      <td>NaN</td>\n",
       "      <td>NaN</td>\n",
       "      <td>2.13000</td>\n",
       "      <td>2.11000</td>\n",
       "      <td>2.13000</td>\n",
       "      <td>2.11000</td>\n",
       "    </tr>\n",
       "  </tbody>\n",
       "</table>\n",
       "</div>"
      ],
      "text/plain": [
       "             거래일  대표수익률_시중은행  대표수익률_특수은행  최종호가수익률_오전_시중  최종호가수익률_오전_특수  \\\n",
       "3000  2015-01-16         NaN         NaN        2.13000        2.11000   \n",
       "3001  2015-01-19         NaN         NaN        2.13000        2.11000   \n",
       "3002  2015-01-20         NaN         NaN        2.13000        2.11000   \n",
       "3003  2015-01-21         NaN         NaN        2.13000        2.11000   \n",
       "3004  2015-01-22         NaN         NaN        2.13000        2.11000   \n",
       "\n",
       "      최종호가수익률_오후_시중  최종호가수익률_오후_특수  \n",
       "3000        2.13000        2.11000  \n",
       "3001        2.13000        2.11000  \n",
       "3002        2.13000        2.11000  \n",
       "3003        2.13000        2.11000  \n",
       "3004        2.13000        2.11000  "
      ]
     },
     "execution_count": 66,
     "metadata": {},
     "output_type": "execute_result"
    }
   ],
   "source": [
    "kofia.iloc[3000:3005]"
   ]
  },
  {
   "cell_type": "code",
   "execution_count": 67,
   "metadata": {},
   "outputs": [
    {
     "name": "stdout",
     "output_type": "stream",
     "text": [
      "\n",
      "(5152, 7)\n",
      "Index(['거래일', '대표수익률_시중은행', '대표수익률_특수은행', '최종호가수익률_오전_시중', '최종호가수익률_오전_특수',\n",
      "       '최종호가수익률_오후_시중', '최종호가수익률_오후_특수'],\n",
      "      dtype='object')\n",
      "date: 2003-01-02 2023-09-27\n"
     ]
    }
   ],
   "source": [
    "info_df(kofia, \"거래일\")"
   ]
  },
  {
   "cell_type": "code",
   "execution_count": null,
   "metadata": {},
   "outputs": [
    {
     "name": "stdout",
     "output_type": "stream",
     "text": [
      "<class 'pandas.core.frame.DataFrame'>\n",
      "RangeIndex: 5152 entries, 0 to 5151\n",
      "Data columns (total 7 columns):\n",
      " #   Column         Non-Null Count  Dtype  \n",
      "---  ------         --------------  -----  \n",
      " 0   거래일            5152 non-null   object \n",
      " 1   대표수익률_시중은행     988 non-null    float64\n",
      " 2   대표수익률_특수은행     519 non-null    float64\n",
      " 3   최종호가수익률_오전_시중  5152 non-null   float64\n",
      " 4   최종호가수익률_오전_특수  3639 non-null   float64\n",
      " 5   최종호가수익률_오후_시중  5152 non-null   float64\n",
      " 6   최종호가수익률_오후_특수  3639 non-null   float64\n",
      "dtypes: float64(6), object(1)\n",
      "memory usage: 281.9+ KB\n"
     ]
    }
   ],
   "source": [
    "kofia.info()"
   ]
  },
  {
   "cell_type": "code",
   "execution_count": 69,
   "metadata": {},
   "outputs": [
    {
     "data": {
      "text/html": [
       "<div>\n",
       "<style scoped>\n",
       "    .dataframe tbody tr th:only-of-type {\n",
       "        vertical-align: middle;\n",
       "    }\n",
       "\n",
       "    .dataframe tbody tr th {\n",
       "        vertical-align: top;\n",
       "    }\n",
       "\n",
       "    .dataframe thead th {\n",
       "        text-align: right;\n",
       "    }\n",
       "</style>\n",
       "<table border=\"1\" class=\"dataframe\">\n",
       "  <thead>\n",
       "    <tr style=\"text-align: right;\">\n",
       "      <th></th>\n",
       "      <th>대표수익률_시중은행</th>\n",
       "      <th>대표수익률_특수은행</th>\n",
       "      <th>최종호가수익률_오전_시중</th>\n",
       "      <th>최종호가수익률_오전_특수</th>\n",
       "      <th>최종호가수익률_오후_시중</th>\n",
       "      <th>최종호가수익률_오후_특수</th>\n",
       "    </tr>\n",
       "  </thead>\n",
       "  <tbody>\n",
       "    <tr>\n",
       "      <th>count</th>\n",
       "      <td>988.00000</td>\n",
       "      <td>519.00000</td>\n",
       "      <td>5152.00000</td>\n",
       "      <td>3639.00000</td>\n",
       "      <td>5152.00000</td>\n",
       "      <td>3639.00000</td>\n",
       "    </tr>\n",
       "    <tr>\n",
       "      <th>mean</th>\n",
       "      <td>2.27270</td>\n",
       "      <td>2.25674</td>\n",
       "      <td>2.85456</td>\n",
       "      <td>2.15804</td>\n",
       "      <td>2.85477</td>\n",
       "      <td>2.15831</td>\n",
       "    </tr>\n",
       "    <tr>\n",
       "      <th>std</th>\n",
       "      <td>0.89255</td>\n",
       "      <td>0.85411</td>\n",
       "      <td>1.34054</td>\n",
       "      <td>0.89557</td>\n",
       "      <td>1.34054</td>\n",
       "      <td>0.89555</td>\n",
       "    </tr>\n",
       "    <tr>\n",
       "      <th>min</th>\n",
       "      <td>0.58000</td>\n",
       "      <td>0.59000</td>\n",
       "      <td>0.63000</td>\n",
       "      <td>0.63000</td>\n",
       "      <td>0.63000</td>\n",
       "      <td>0.63000</td>\n",
       "    </tr>\n",
       "    <tr>\n",
       "      <th>25%</th>\n",
       "      <td>1.51000</td>\n",
       "      <td>1.53000</td>\n",
       "      <td>1.65000</td>\n",
       "      <td>1.49000</td>\n",
       "      <td>1.65000</td>\n",
       "      <td>1.49000</td>\n",
       "    </tr>\n",
       "    <tr>\n",
       "      <th>50%</th>\n",
       "      <td>2.42000</td>\n",
       "      <td>2.35000</td>\n",
       "      <td>2.69000</td>\n",
       "      <td>2.08000</td>\n",
       "      <td>2.69000</td>\n",
       "      <td>2.08000</td>\n",
       "    </tr>\n",
       "    <tr>\n",
       "      <th>75%</th>\n",
       "      <td>2.85000</td>\n",
       "      <td>2.82500</td>\n",
       "      <td>3.79250</td>\n",
       "      <td>2.74500</td>\n",
       "      <td>3.79250</td>\n",
       "      <td>2.74000</td>\n",
       "    </tr>\n",
       "    <tr>\n",
       "      <th>max</th>\n",
       "      <td>4.05000</td>\n",
       "      <td>3.97000</td>\n",
       "      <td>6.17000</td>\n",
       "      <td>4.07000</td>\n",
       "      <td>6.18000</td>\n",
       "      <td>4.03000</td>\n",
       "    </tr>\n",
       "  </tbody>\n",
       "</table>\n",
       "</div>"
      ],
      "text/plain": [
       "       대표수익률_시중은행  대표수익률_특수은행  최종호가수익률_오전_시중  최종호가수익률_오전_특수  최종호가수익률_오후_시중  \\\n",
       "count   988.00000   519.00000     5152.00000     3639.00000     5152.00000   \n",
       "mean      2.27270     2.25674        2.85456        2.15804        2.85477   \n",
       "std       0.89255     0.85411        1.34054        0.89557        1.34054   \n",
       "min       0.58000     0.59000        0.63000        0.63000        0.63000   \n",
       "25%       1.51000     1.53000        1.65000        1.49000        1.65000   \n",
       "50%       2.42000     2.35000        2.69000        2.08000        2.69000   \n",
       "75%       2.85000     2.82500        3.79250        2.74500        3.79250   \n",
       "max       4.05000     3.97000        6.17000        4.07000        6.18000   \n",
       "\n",
       "       최종호가수익률_오후_특수  \n",
       "count     3639.00000  \n",
       "mean         2.15831  \n",
       "std          0.89555  \n",
       "min          0.63000  \n",
       "25%          1.49000  \n",
       "50%          2.08000  \n",
       "75%          2.74000  \n",
       "max          4.03000  "
      ]
     },
     "execution_count": 69,
     "metadata": {},
     "output_type": "execute_result"
    }
   ],
   "source": [
    "kofia.describe()"
   ]
  },
  {
   "cell_type": "code",
   "execution_count": 72,
   "metadata": {},
   "outputs": [
    {
     "data": {
      "text/plain": [
       "'2009-02-17'"
      ]
     },
     "execution_count": 72,
     "metadata": {},
     "output_type": "execute_result"
    }
   ],
   "source": [
    "kofia.loc[kofia[\"대표수익률_시중은행\"].notnull()][\"거래일\"].min()"
   ]
  },
  {
   "cell_type": "code",
   "execution_count": 73,
   "metadata": {},
   "outputs": [
    {
     "data": {
      "text/plain": [
       "'2023-09-27'"
      ]
     },
     "execution_count": 73,
     "metadata": {},
     "output_type": "execute_result"
    }
   ],
   "source": [
    "kofia.loc[kofia[\"대표수익률_시중은행\"].notnull()][\"거래일\"].max()"
   ]
  },
  {
   "cell_type": "code",
   "execution_count": 78,
   "metadata": {},
   "outputs": [
    {
     "name": "stdout",
     "output_type": "stream",
     "text": [
      "35.121457489878544\n"
     ]
    },
    {
     "data": {
      "text/plain": [
       "64.87854251012146"
      ]
     },
     "execution_count": 78,
     "metadata": {},
     "output_type": "execute_result"
    }
   ],
   "source": [
    "kofia[\"mean\"] = (kofia[\"최종호가수익률_오전_시중\"] + kofia[\"최종호가수익률_오후_시중\"])/2\n",
    "print((kofia[\"대표수익률_시중은행\"] == kofia[\"mean\"]).sum() / 988 * 100)\n",
    "kofia[(kofia[\"대표수익률_시중은행\"] != kofia[\"mean\"]) & (kofia[\"대표수익률_시중은행\"].notnull())].shape[0] / 988 * 100"
   ]
  },
  {
   "cell_type": "code",
   "execution_count": 77,
   "metadata": {},
   "outputs": [
    {
     "data": {
      "text/plain": [
       "count   988.00000\n",
       "mean      0.00913\n",
       "std       0.06469\n",
       "min      -0.35000\n",
       "25%       0.00000\n",
       "50%       0.00000\n",
       "75%       0.01000\n",
       "max       0.74000\n",
       "Name: diff, dtype: float64"
      ]
     },
     "execution_count": 77,
     "metadata": {},
     "output_type": "execute_result"
    }
   ],
   "source": [
    "kofia[\"diff\"] = kofia[\"대표수익률_시중은행\"] - kofia[\"mean\"]\n",
    "kofia[\"diff\"].describe()"
   ]
  },
  {
   "cell_type": "code",
   "execution_count": 85,
   "metadata": {},
   "outputs": [
    {
     "name": "stdout",
     "output_type": "stream",
     "text": [
      "42.81376518218624\n"
     ]
    },
    {
     "data": {
      "text/plain": [
       "0.0401063829787234"
      ]
     },
     "execution_count": 85,
     "metadata": {},
     "output_type": "execute_result"
    }
   ],
   "source": [
    "print(kofia.loc[kofia[\"diff\"] > 0].shape[0] / 988 * 100)\n",
    "kofia.loc[kofia[\"diff\"] > 0, \"diff\"].sum() / kofia.loc[kofia[\"diff\"] > 0, \"diff\"].shape[0]"
   ]
  },
  {
   "cell_type": "code",
   "execution_count": 84,
   "metadata": {},
   "outputs": [
    {
     "name": "stdout",
     "output_type": "stream",
     "text": [
      "22.06477732793522\n"
     ]
    },
    {
     "data": {
      "text/plain": [
       "-0.03644495412844038"
      ]
     },
     "execution_count": 84,
     "metadata": {},
     "output_type": "execute_result"
    }
   ],
   "source": [
    "print(kofia.loc[kofia[\"diff\"] < 0].shape[0] / 988 * 100)\n",
    "kofia.loc[kofia[\"diff\"] < 0, \"diff\"].sum() / kofia.loc[kofia[\"diff\"] < 0, \"diff\"].shape[0]"
   ]
  },
  {
   "cell_type": "code",
   "execution_count": 99,
   "metadata": {},
   "outputs": [
    {
     "name": "stderr",
     "output_type": "stream",
     "text": [
      "C:\\Users\\DYK\\AppData\\Local\\Temp\\ipykernel_6316\\919447086.py:2: FutureWarning: Series.__getitem__ treating keys as positions is deprecated. In a future version, integer keys will always be treated as labels (consistent with DataFrame behavior). To access a value by position, use `ser.iloc[pos]`\n",
      "  kofia[\"main_ytm\"] = kofia[[\"대표수익률_시중은행\", \"mean\"]].apply(lambda x: x[0] if isinstance(x[0], float) else x[1], axis=1)\n"
     ]
    }
   ],
   "source": [
    "kofia[\"대표수익률_시중은행\"] = kofia[\"대표수익률_시중은행\"].fillna(\"\")\n",
    "kofia[\"main_ytm\"] = kofia[[\"대표수익률_시중은행\", \"mean\"]].apply(lambda x: x[0] if isinstance(x[0], float) else x[1], axis=1)"
   ]
  },
  {
   "cell_type": "markdown",
   "metadata": {},
   "source": [
    "### - Coverage"
   ]
  },
  {
   "cell_type": "code",
   "execution_count": 132,
   "metadata": {},
   "outputs": [
    {
     "name": "stdout",
     "output_type": "stream",
     "text": [
      "_merge\n",
      "both          3406\n",
      "right_only    1746\n",
      "left_only      484\n",
      "Name: count, dtype: int64\n",
      "_merge\n",
      "both         60.43293\n",
      "right_only   30.97942\n",
      "left_only     8.58765\n",
      "Name: count, dtype: float64\n",
      "\n",
      "2010-01-04 2023-09-27\n",
      "2010-01-04 2023-09-27\n",
      "2010-02-15 2024-11-29\n",
      "nan nan\n",
      "nan nan\n",
      "2003-01-02 2009-12-31\n"
     ]
    },
    {
     "data": {
      "text/plain": [
       "count   3406.00000\n",
       "mean       0.00361\n",
       "std        0.02466\n",
       "min       -0.35000\n",
       "25%        0.00000\n",
       "50%        0.00000\n",
       "75%        0.00000\n",
       "max        0.33000\n",
       "Name: diff, dtype: float64"
      ]
     },
     "execution_count": 132,
     "metadata": {},
     "output_type": "execute_result"
    }
   ],
   "source": [
    "mat = \"3m\"\n",
    "\n",
    "m = pd.merge(\n",
    "    seibro[seibro[\"credit_rank\"]==\"AAA\"], \n",
    "    kofia, \n",
    "    left_on=\"date\", right_on=\"거래일\", how=\"outer\", \n",
    "    suffixes=(\"_seibro\", \"_kofia\"), indicator=True,\n",
    "    validate=\"1:1\"\n",
    ")\n",
    "print(m[\"_merge\"].value_counts())\n",
    "print(m[\"_merge\"].value_counts() / m.shape[0] * 100)\n",
    "print()\n",
    "for v in [\"both\", \"left_only\", \"right_only\"]:\n",
    "    print(m[m[\"_merge\"]==v][\"date\"].min(), m[m[\"_merge\"]==v][\"date\"].max())\n",
    "    print(m[m[\"_merge\"]==v][\"거래일\"].min(), m[m[\"_merge\"]==v][\"거래일\"].max())\n",
    "\n",
    "m = m[m[\"_merge\"]==\"both\"][[\"date\", mat, \"main_ytm\"]].rename(\n",
    "    columns={mat:\"seibro\", \"main_ytm\":\"kofia\"})\n",
    "m[\"diff\"] = m[\"kofia\"] - m[\"seibro\"]\n",
    "m[\"diff\"].describe()"
   ]
  },
  {
   "cell_type": "code",
   "execution_count": 134,
   "metadata": {},
   "outputs": [
    {
     "name": "stdout",
     "output_type": "stream",
     "text": [
      "kofia_larger\n",
      "-1.00000     336\n",
      "0.00000     2304\n",
      "1.00000      766\n",
      "Name: count, dtype: int64\n"
     ]
    },
    {
     "data": {
      "text/plain": [
       "kofia_larger\n",
       "-1.00000    9.86494\n",
       "0.00000    67.64533\n",
       "1.00000    22.48972\n",
       "Name: count, dtype: float64"
      ]
     },
     "execution_count": 134,
     "metadata": {},
     "output_type": "execute_result"
    }
   ],
   "source": [
    "m.loc[ m[\"diff\"] > 0, \"kofia_larger\"] = 1\n",
    "m.loc[ m[\"diff\"] < 0, \"kofia_larger\"] = -1\n",
    "m.loc[ m[\"diff\"] == 0, \"kofia_larger\"] = 0\n",
    "\n",
    "print(m[\"kofia_larger\"].value_counts().sort_index() )\n",
    "\n",
    "m[\"kofia_larger\"].value_counts().sort_index() / m.shape[0] * 100"
   ]
  },
  {
   "cell_type": "code",
   "execution_count": 137,
   "metadata": {},
   "outputs": [
    {
     "data": {
      "text/plain": [
       "0.026370757180156672"
      ]
     },
     "execution_count": 137,
     "metadata": {},
     "output_type": "execute_result"
    }
   ],
   "source": [
    "m.loc[m[\"kofia_larger\"] == 1][\"diff\"].sum() / m.loc[m[\"kofia_larger\"] == 1].shape[0]"
   ]
  },
  {
   "cell_type": "code",
   "execution_count": 138,
   "metadata": {},
   "outputs": [
    {
     "data": {
      "text/plain": [
       "-0.023497023809523808"
      ]
     },
     "execution_count": 138,
     "metadata": {},
     "output_type": "execute_result"
    }
   ],
   "source": [
    "m.loc[m[\"kofia_larger\"] == -1][\"diff\"].sum() / m.loc[m[\"kofia_larger\"] == -1].shape[0]"
   ]
  },
  {
   "cell_type": "markdown",
   "metadata": {},
   "source": [
    "# Issuance \n",
    "\n",
    "1. Feature\n",
    "- 공통점: ['발행기관', '발행일', '만기일', '발행금액', '통화']\n",
    "- 차이점: \n",
    "  - Kofia: ['발행금리']\n",
    "  - Seibro: [\n",
    "    '표준코드', '종목명', '할인율', \n",
    "     '액면금액', '매출금액', '발행형태',\n",
    "     'VALAT_GRD_CD_NM', '발행은행신용등급', \n",
    "     '발행인유형', '지급은행', '등록일자'\n",
    "    ]\n",
    "\n",
    "- ex\n",
    "  - 발행형태 : 전자증권 or 공사채등록\n",
    "  - 발행인유형 : 시중은행, 지방은행, 특수은행, 외은지점\n",
    "  - VALAT_GRD_CD_NM, 발행은행신용등급 : 'AA+(A2+)', 'AA-(A2-)', 'AAA0(A1)', None\n",
    "\n",
    "\n",
    "2. 결론\n",
    "- CD 데이터는 표준코드가 포함된 발행 및 거래 데이터를 요청하여 받을 수 있다면 좋겠다."
   ]
  },
  {
   "cell_type": "code",
   "execution_count": 25,
   "metadata": {},
   "outputs": [
    {
     "name": "stdout",
     "output_type": "stream",
     "text": [
      "Kofia CD Issuance\n",
      "2855 2842\n",
      "['KRW' 'USD']\n",
      "Index(['발행일', '발행기관', '만기일', '만기', '발행금리(%)', '발행금액(억원)', '통화구분'], dtype='object')\n",
      "\n",
      "Seibro CD Issuance\n",
      "10024 10024 3593\n",
      "['특수은행' '지방은행' '외은지점' '시중은행']\n",
      "Index(['date', '기준일자', 'INPUT_NOS', 'ISSUCO_INDTP_CLSF_NO', '발행인유형',\n",
      "       'GOODS_CREDITRT_CD', 'GOODS_CREDITRT_CD_NM', '통화', '발행금액', '할인율',\n",
      "       'SHORTM_FNCEGD_CD', '증권구분', '종목번호', '종목명', '발행일', '만기일',\n",
      "       'GOODS_DAYOBJ_CD', '일물', 'NUM'],\n",
      "      dtype='object')\n",
      "\n",
      "Seibro Detail CD Issuance\n",
      "8053 8053 3593\n",
      "['KRW' 'USD' 'CNY']\n",
      "Index(['발행은행', '발행은행코드', 'ISSUCO_CUSTNO', 'REP_SECN_NM', '종목코드', '종목명', '발행일',\n",
      "       '만기일', '액면금액', '매출금액', '발행금액', '할인율', '잔존일물', '발행형태', '발행통화',\n",
      "       '지급은행지점코드', 'PAY_BANK_MOFNO', '발행은행신용등급', '지급은행', 'CREDITRT_DT',\n",
      "       'VALAT_GRD_CD_NM', '등록일자'],\n",
      "      dtype='object')\n",
      "발행인유형\n",
      "시중은행    1780\n",
      "지방은행     840\n",
      "특수은행     708\n",
      "외은지점     265\n",
      "Name: count, dtype: int64\n",
      "\n"
     ]
    }
   ],
   "source": [
    "kofia = pd.read_csv(\"kofia\\issue_CD.csv\").replace(\"-\", None)\n",
    "kofia[\"통화구분\"] = kofia[\"통화구분\"].str.strip().replace('원화', 'KRW').str.replace('달러화', 'USD')\n",
    "print(\"Kofia CD Issuance\")\n",
    "print(kofia.shape[0], kofia.drop_duplicates().shape[0])\n",
    "print(kofia[\"통화구분\"].unique())\n",
    "print(kofia.columns)\n",
    "print()\n",
    "\n",
    "seibro = pd.read_csv(\"seibro\\seibro_cd_issue.csv\")#.drop(columns=[\"date\", \"NUM\"])\n",
    "seibro[\"기준일자\"] = pd.to_datetime(seibro[\"기준일자\"], format=\"%Y%m%d\").dt.strftime(\"%Y-%m-%d\")\n",
    "print(\"Seibro CD Issuance\")\n",
    "print(seibro.shape[0], seibro.drop_duplicates().shape[0], seibro[\"종목번호\"].drop_duplicates().shape[0])\n",
    "print(seibro[\"발행인유형\"].unique())\n",
    "print(seibro.columns)\n",
    "print()\n",
    "\n",
    "seibro_detail = pd.read_csv(\"seibro\\seibro_cd_issue_detail.csv\")\n",
    "seibro_detail.loc[seibro_detail[\"VALAT_GRD_CD_NM\"]==\"취소\", \"VALAT_GRD_CD_NM\"] = None\n",
    "print(\"Seibro Detail CD Issuance\")\n",
    "print(seibro_detail.shape[0],  seibro_detail.drop_duplicates().shape[0], seibro_detail[\"종목코드\"].drop_duplicates().shape[0])\n",
    "print(seibro_detail[\"발행통화\"].unique())\n",
    "print(seibro_detail.columns)\n",
    "seibro_detail = seibro_detail.sort_values([\"발행은행신용등급\",\"VALAT_GRD_CD_NM\"]).drop_duplicates(subset=[\"종목코드\"])\n",
    "seibro_detail = pd.merge(seibro_detail, seibro[[\"종목번호\", \"발행인유형\"]].drop_duplicates(), left_on=\"종목코드\", right_on=\"종목번호\", how=\"left\")\n",
    "print(seibro_detail[\"발행인유형\"].value_counts(dropna=False))\n",
    "print()"
   ]
  },
  {
   "cell_type": "code",
   "execution_count": 26,
   "metadata": {},
   "outputs": [
    {
     "data": {
      "text/plain": [
       "발행형태\n",
       "전자증권     1931\n",
       "공사채등록    1662\n",
       "Name: count, dtype: int64"
      ]
     },
     "execution_count": 26,
     "metadata": {},
     "output_type": "execute_result"
    }
   ],
   "source": [
    "seibro_detail[\"발행형태\"].value_counts()"
   ]
  },
  {
   "cell_type": "code",
   "execution_count": 27,
   "metadata": {},
   "outputs": [],
   "source": [
    "for dff in [seibro, kofia, seibro_detail]:\n",
    "    dff[\"발행일\"] = pd.to_datetime(dff[\"발행일\"], format=\"%Y%m%d\").dt.strftime(\"%Y-%m-%d\")\n",
    "    dff[\"만기일\"] = pd.to_datetime(dff[\"만기일\"], format=\"%Y%m%d\").dt.strftime(\"%Y-%m-%d\")\n",
    "    for c in dff.columns:\n",
    "        dff.loc[dff[c].isna(), c] = None"
   ]
  },
  {
   "cell_type": "code",
   "execution_count": 28,
   "metadata": {},
   "outputs": [
    {
     "data": {
      "text/plain": [
       "(array(['AA-(A2-)', 'AAA0(A1)', None], dtype=object),\n",
       " array([None, 'AA+(A2+)', 'AAA0(A1)'], dtype=object))"
      ]
     },
     "execution_count": 28,
     "metadata": {},
     "output_type": "execute_result"
    }
   ],
   "source": [
    "seibro_detail[\"발행은행신용등급\"].unique(), seibro_detail[\"VALAT_GRD_CD_NM\"].unique()"
   ]
  },
  {
   "cell_type": "code",
   "execution_count": 29,
   "metadata": {},
   "outputs": [],
   "source": [
    "for c in seibro_detail.columns:\n",
    "    if seibro_detail.shape[0] > seibro_detail.drop(columns=[c]).drop_duplicates().shape[0]:\n",
    "        print(c, seibro_detail.drop(columns=[c]).drop_duplicates().shape[0])"
   ]
  },
  {
   "cell_type": "code",
   "execution_count": 30,
   "metadata": {},
   "outputs": [
    {
     "name": "stdout",
     "output_type": "stream",
     "text": [
      "(3593,)\n"
     ]
    },
    {
     "data": {
      "text/html": [
       "<div>\n",
       "<style scoped>\n",
       "    .dataframe tbody tr th:only-of-type {\n",
       "        vertical-align: middle;\n",
       "    }\n",
       "\n",
       "    .dataframe tbody tr th {\n",
       "        vertical-align: top;\n",
       "    }\n",
       "\n",
       "    .dataframe thead th {\n",
       "        text-align: right;\n",
       "    }\n",
       "</style>\n",
       "<table border=\"1\" class=\"dataframe\">\n",
       "  <thead>\n",
       "    <tr style=\"text-align: right;\">\n",
       "      <th></th>\n",
       "      <th>종목코드</th>\n",
       "      <th>count</th>\n",
       "      <th>발행은행</th>\n",
       "      <th>발행은행코드</th>\n",
       "      <th>ISSUCO_CUSTNO</th>\n",
       "      <th>REP_SECN_NM</th>\n",
       "      <th>종목명</th>\n",
       "      <th>발행일</th>\n",
       "      <th>만기일</th>\n",
       "      <th>액면금액</th>\n",
       "      <th>...</th>\n",
       "      <th>발행통화</th>\n",
       "      <th>지급은행지점코드</th>\n",
       "      <th>PAY_BANK_MOFNO</th>\n",
       "      <th>발행은행신용등급</th>\n",
       "      <th>지급은행</th>\n",
       "      <th>CREDITRT_DT</th>\n",
       "      <th>VALAT_GRD_CD_NM</th>\n",
       "      <th>등록일자</th>\n",
       "      <th>종목번호</th>\n",
       "      <th>발행인유형</th>\n",
       "    </tr>\n",
       "  </thead>\n",
       "  <tbody>\n",
       "  </tbody>\n",
       "</table>\n",
       "<p>0 rows × 25 columns</p>\n",
       "</div>"
      ],
      "text/plain": [
       "Empty DataFrame\n",
       "Columns: [종목코드, count, 발행은행, 발행은행코드, ISSUCO_CUSTNO, REP_SECN_NM, 종목명, 발행일, 만기일, 액면금액, 매출금액, 발행금액, 할인율, 잔존일물, 발행형태, 발행통화, 지급은행지점코드, PAY_BANK_MOFNO, 발행은행신용등급, 지급은행, CREDITRT_DT, VALAT_GRD_CD_NM, 등록일자, 종목번호, 발행인유형]\n",
       "Index: []\n",
       "\n",
       "[0 rows x 25 columns]"
      ]
     },
     "execution_count": 30,
     "metadata": {},
     "output_type": "execute_result"
    }
   ],
   "source": [
    "t = seibro_detail[\"종목코드\"].value_counts()\n",
    "print(t.shape)\n",
    "temp = pd.merge(t[t>1], seibro_detail, left_on=\"종목코드\", right_on=\"종목코드\", how=\"inner\").sort_values(\"종목코드\")\n",
    "temp # 등록일자 제일 큰 것으로 선택하는 게 나으려나..."
   ]
  },
  {
   "cell_type": "code",
   "execution_count": 31,
   "metadata": {},
   "outputs": [
    {
     "name": "stdout",
     "output_type": "stream",
     "text": [
      "KRZE02002592 50000000000.0 80000000000.0\n"
     ]
    }
   ],
   "source": [
    "# Seibro issuance data에서 발행금액 불일치 1건\n",
    "for isin in seibro[\"종목번호\"].unique():\n",
    "    temp = seibro[seibro[\"종목번호\"]==isin]\n",
    "    if  temp[\"발행금액\"].sum() != seibro_detail[seibro_detail[\"종목코드\"]==isin][\"발행금액\"].sum():\n",
    "        print(isin, temp[\"발행금액\"].sum(), seibro_detail[seibro_detail[\"종목코드\"]==isin][\"발행금액\"].sum())"
   ]
  },
  {
   "cell_type": "markdown",
   "metadata": {},
   "source": [
    "Matching Kofia + Seibro"
   ]
  },
  {
   "cell_type": "code",
   "execution_count": 32,
   "metadata": {},
   "outputs": [
    {
     "data": {
      "text/plain": [
       "array(['농협', '우리은행', '경남은행', '대구은행', '하나은행', '수협', '외환은행', '국민은행',\n",
       "       '스탠다드차타드은행', '신한은행', '씨티은행', '전북은행', '바클레이즈은행', '중국건설은행', '중국공상은행',\n",
       "       '산업은행', '광주은행', 'KEB하나은행(구,하나은행)', 'KDB산업은행', '중국은행', '중국농업은행',\n",
       "       'NH농협은행', 'KEB하나은행(구,외환은행)', '부산은행', '수협은행', '한국산업은행', '중국광대은행',\n",
       "       '기업은행', 'OCBC은행 서울지점', '하나은행_구외환', '제주은행', '대화은행'], dtype=object)"
      ]
     },
     "execution_count": 32,
     "metadata": {},
     "output_type": "execute_result"
    }
   ],
   "source": [
    "kofia[\"발행기관\"].unique()"
   ]
  },
  {
   "cell_type": "code",
   "execution_count": 33,
   "metadata": {},
   "outputs": [
    {
     "data": {
      "text/plain": [
       "array(['신한 자금부', '우리 여의도중앙업무팀', '우리 여의도업무팀', '우리 여의도중앙금융센터', '우리 여의도금융센터',\n",
       "       '우리 여의도중앙기업영업지원팀', '우리 여의도기업영업지원팀', '수협 여의도증권타운지점', '외환 자금부',\n",
       "       '국민 자금부', '외환 한티역지점', '하나 여의도대투', '하나 하나금융투자센터',\n",
       "       'KEB하나 기관영업부(금융기관영업팀)', '국민 ALM부', 'KEB하나 기관사업부(금융기관영업팀)',\n",
       "       'KEB하나 금융기관영업부', 'KEB하나 금융기관영업팀', '하나 금융기관영업유닛', 'KB국민 트레저리부',\n",
       "       '하나 금융기관영업유닛(기관사업섹션', 'KB국민 자금부', '하나 금융기관영업유닛(기관사업부)',\n",
       "       '하나 금융기관영업부', '대구 자금부(서울)', 'ING Bank 서울(지)', 'SC제일 자금부',\n",
       "       '한국스탠다드차타드 자금부', '기업 자금부', '전북 대전지점', '한국씨티 자금부', '부산 금융시장지원부 원화',\n",
       "       '하나 여의도기업센', '농협은행 영업부', '경남 영업부', '대구 자금증권부', '경남 서울', '대구 증권운용부',\n",
       "       '경남 서울(지)', '전북 서울(지)', '전북 인천지점', 'Barclays 서울(지)', 'SC 자금부',\n",
       "       '중국건설은행 서울(지)', '중국공상은행 서울지점', '산업 여의도(지)', '중국은행 서울지점',\n",
       "       '광주 자금시장부', '중국농업은행주식유한 서울지점', '수협은행 여의도증권타운지점', '전북 여의도지점',\n",
       "       'SC 자금팀', '농협은행 본점영업부', '중국교통은행 서울(지)', '전북 부평지점',\n",
       "       '수협은행 여의도증권타운센터', '중국광대은행 서울지점', '전북 서울지점', '전북 부평소매금융센터',\n",
       "       'OCBC Bank 서울(지)', '부산 금융시장지원부', '제주 자금부', '경남 서울영업부',\n",
       "       'NH농협은행 본점영업부', '수협은행 여의도종합금융본부', '대화은행 서울지점', '제주 자금총괄부'],\n",
       "      dtype=object)"
      ]
     },
     "execution_count": 33,
     "metadata": {},
     "output_type": "execute_result"
    }
   ],
   "source": [
    "seibro_detail['종목명_clean'] = seibro_detail['종목명'].str.replace(r\"[0-9]|-\", \"\", regex=True).str.strip()\n",
    "seibro_detail['종목명_clean'].unique()"
   ]
  },
  {
   "cell_type": "code",
   "execution_count": 34,
   "metadata": {},
   "outputs": [
    {
     "name": "stdout",
     "output_type": "stream",
     "text": [
      "종목명_mat\n",
      "Barclays     14\n",
      "ING           1\n",
      "OCBC          2\n",
      "SC          156\n",
      "경남          265\n",
      "광주           83\n",
      "국민          432\n",
      "농협          164\n",
      "대구          156\n",
      "대화           21\n",
      "부산          238\n",
      "산업          208\n",
      "수협          306\n",
      "스탠다드차타드      33\n",
      "신한          244\n",
      "씨티           15\n",
      "외환           19\n",
      "우리          524\n",
      "전북           50\n",
      "중국          227\n",
      "하나          357\n",
      "None         78\n",
      "Name: count, dtype: int64\n",
      "종목명_mat\n",
      "OCBC         2\n",
      "경남         234\n",
      "광주          68\n",
      "국민         364\n",
      "기업은행        13\n",
      "농협         119\n",
      "대구         141\n",
      "대화           4\n",
      "바클레이즈       14\n",
      "부산         184\n",
      "산업         203\n",
      "수협         293\n",
      "스탠다드차타드    158\n",
      "신한         207\n",
      "씨티          12\n",
      "외환         113\n",
      "우리         284\n",
      "전북          37\n",
      "중국         179\n",
      "하나         194\n",
      "None        32\n",
      "Name: count, dtype: int64\n"
     ]
    }
   ],
   "source": [
    "kofia[\"종목명\"] = kofia[\"발행기관\"]\n",
    "for df in [seibro_detail, kofia]:\n",
    "    df[\"종목명_mat\"] = None\n",
    "\n",
    "    for key in [ \"중국\", \"하나\",\n",
    "        \"신한\", \"우리\", \"수협\", \"외환\", \"국민\", \"외환\", \n",
    "        \"대구\", \"SC\", \"스탠다드차타드\", \"기업은행\", \"전북\", \"씨티\",\n",
    "        \"부산\", \"산업\", \"경남\", \"농협\", \"아이엠\", \"기업 자금부\"\n",
    "        \"제주\", \"대화\", \"광주\", \"ING\", \"OCBC\", \"바클레이즈\", \"Barclays\",\n",
    "    ]:\n",
    "        df.loc[df[\"종목명\"].str.contains(key), \"종목명_mat\"] = key\n",
    "    print(df[\"종목명_mat\"].value_counts(dropna=False).sort_index())\n",
    "\n",
    "kofia.loc[kofia[\"종목명_mat\"].str.contains(\"기업\", na=False), \"종목명_mat\"] = \"기업\"\n",
    "seibro_detail.loc[seibro_detail[\"종목명_mat\"].str.contains(\"기업\", na=False), \"종목명_mat\"] = \"기업\""
   ]
  },
  {
   "cell_type": "code",
   "execution_count": 35,
   "metadata": {},
   "outputs": [
    {
     "name": "stdout",
     "output_type": "stream",
     "text": [
      "(3500,)\n",
      "(15,)\n"
     ]
    },
    {
     "data": {
      "text/html": [
       "<div>\n",
       "<style scoped>\n",
       "    .dataframe tbody tr th:only-of-type {\n",
       "        vertical-align: middle;\n",
       "    }\n",
       "\n",
       "    .dataframe tbody tr th {\n",
       "        vertical-align: top;\n",
       "    }\n",
       "\n",
       "    .dataframe thead th {\n",
       "        text-align: right;\n",
       "    }\n",
       "</style>\n",
       "<table border=\"1\" class=\"dataframe\">\n",
       "  <thead>\n",
       "    <tr style=\"text-align: right;\">\n",
       "      <th></th>\n",
       "      <th>발행일</th>\n",
       "      <th>만기일</th>\n",
       "      <th>발행통화</th>\n",
       "      <th>발행금액</th>\n",
       "      <th>종목명_mat</th>\n",
       "      <th>종목코드</th>\n",
       "      <th>종목명</th>\n",
       "      <th>발행은행신용등급</th>\n",
       "    </tr>\n",
       "  </thead>\n",
       "  <tbody>\n",
       "    <tr>\n",
       "      <th>0</th>\n",
       "      <td>2023-08-16</td>\n",
       "      <td>2024-08-13</td>\n",
       "      <td>KRW</td>\n",
       "      <td>20000000000.00000</td>\n",
       "      <td>우리</td>\n",
       "      <td>KRZE08402D8G</td>\n",
       "      <td>우리 여의도기업영업지원팀 20230816-363-2</td>\n",
       "      <td>AAA0(A1)</td>\n",
       "    </tr>\n",
       "    <tr>\n",
       "      <th>1</th>\n",
       "      <td>2023-08-16</td>\n",
       "      <td>2024-08-13</td>\n",
       "      <td>KRW</td>\n",
       "      <td>20000000000.00000</td>\n",
       "      <td>우리</td>\n",
       "      <td>KRZE08405D8G</td>\n",
       "      <td>우리 여의도중앙기업영업지원팀 20230816-363-5</td>\n",
       "      <td>AAA0(A1)</td>\n",
       "    </tr>\n",
       "    <tr>\n",
       "      <th>2</th>\n",
       "      <td>2014-11-25</td>\n",
       "      <td>2015-01-26</td>\n",
       "      <td>KRW</td>\n",
       "      <td>70000000000.00000</td>\n",
       "      <td>우리</td>\n",
       "      <td>KRZE020024BR</td>\n",
       "      <td>우리 여의도중앙금융센터 20141125-62-2</td>\n",
       "      <td>AAA0(A1)</td>\n",
       "    </tr>\n",
       "    <tr>\n",
       "      <th>3</th>\n",
       "      <td>2014-11-25</td>\n",
       "      <td>2015-01-26</td>\n",
       "      <td>KRW</td>\n",
       "      <td>70000000000.00000</td>\n",
       "      <td>우리</td>\n",
       "      <td>KRZE020034BR</td>\n",
       "      <td>우리 여의도금융센터 20141125-62-3</td>\n",
       "      <td>AAA0(A1)</td>\n",
       "    </tr>\n",
       "    <tr>\n",
       "      <th>4</th>\n",
       "      <td>2019-01-04</td>\n",
       "      <td>2019-04-04</td>\n",
       "      <td>KRW</td>\n",
       "      <td>100000000000.00000</td>\n",
       "      <td>우리</td>\n",
       "      <td>KRZE08401914</td>\n",
       "      <td>우리 여의도중앙기업영업지원팀 20190104-90-1</td>\n",
       "      <td>AAA0(A1)</td>\n",
       "    </tr>\n",
       "    <tr>\n",
       "      <th>5</th>\n",
       "      <td>2019-01-04</td>\n",
       "      <td>2019-04-04</td>\n",
       "      <td>KRW</td>\n",
       "      <td>100000000000.00000</td>\n",
       "      <td>우리</td>\n",
       "      <td>KRZE08402914</td>\n",
       "      <td>우리 여의도기업영업지원팀 20190104-90-2</td>\n",
       "      <td>AAA0(A1)</td>\n",
       "    </tr>\n",
       "    <tr>\n",
       "      <th>6</th>\n",
       "      <td>2023-02-09</td>\n",
       "      <td>2023-03-13</td>\n",
       "      <td>KRW</td>\n",
       "      <td>60000000000.00000</td>\n",
       "      <td>우리</td>\n",
       "      <td>KRZE08402D29</td>\n",
       "      <td>우리 여의도기업영업지원팀 20230209-32-2</td>\n",
       "      <td>AAA0(A1)</td>\n",
       "    </tr>\n",
       "    <tr>\n",
       "      <th>7</th>\n",
       "      <td>2023-02-09</td>\n",
       "      <td>2023-03-13</td>\n",
       "      <td>KRW</td>\n",
       "      <td>60000000000.00000</td>\n",
       "      <td>우리</td>\n",
       "      <td>KRZE08403D29</td>\n",
       "      <td>우리 여의도중앙기업영업지원팀 20230209-32-3</td>\n",
       "      <td>AAA0(A1)</td>\n",
       "    </tr>\n",
       "    <tr>\n",
       "      <th>8</th>\n",
       "      <td>2022-11-29</td>\n",
       "      <td>2023-02-28</td>\n",
       "      <td>KRW</td>\n",
       "      <td>10000000000.00000</td>\n",
       "      <td>우리</td>\n",
       "      <td>KRZE08401CBW</td>\n",
       "      <td>우리 여의도중앙기업영업지원팀 20221129-91-1</td>\n",
       "      <td>AAA0(A1)</td>\n",
       "    </tr>\n",
       "    <tr>\n",
       "      <th>9</th>\n",
       "      <td>2022-11-29</td>\n",
       "      <td>2023-02-28</td>\n",
       "      <td>KRW</td>\n",
       "      <td>10000000000.00000</td>\n",
       "      <td>우리</td>\n",
       "      <td>KRZE08402CBW</td>\n",
       "      <td>우리 여의도기업영업지원팀 20221129-91-2</td>\n",
       "      <td>AAA0(A1)</td>\n",
       "    </tr>\n",
       "    <tr>\n",
       "      <th>10</th>\n",
       "      <td>2023-04-13</td>\n",
       "      <td>2023-07-21</td>\n",
       "      <td>KRW</td>\n",
       "      <td>150000000000.00000</td>\n",
       "      <td>우리</td>\n",
       "      <td>KRZE08401D4D</td>\n",
       "      <td>우리 여의도중앙기업영업지원팀 20230413-99-1</td>\n",
       "      <td>AAA0(A1)</td>\n",
       "    </tr>\n",
       "    <tr>\n",
       "      <th>11</th>\n",
       "      <td>2023-04-13</td>\n",
       "      <td>2023-07-21</td>\n",
       "      <td>KRW</td>\n",
       "      <td>150000000000.00000</td>\n",
       "      <td>우리</td>\n",
       "      <td>KRZE08402D4D</td>\n",
       "      <td>우리 여의도기업영업지원팀 20230413-99-2</td>\n",
       "      <td>AAA0(A1)</td>\n",
       "    </tr>\n",
       "    <tr>\n",
       "      <th>12</th>\n",
       "      <td>2021-11-04</td>\n",
       "      <td>2022-11-04</td>\n",
       "      <td>KRW</td>\n",
       "      <td>70000000000.00000</td>\n",
       "      <td>우리</td>\n",
       "      <td>KRZE08401BB4</td>\n",
       "      <td>우리 여의도중앙기업영업지원팀 20211104-365-1</td>\n",
       "      <td>AAA0(A1)</td>\n",
       "    </tr>\n",
       "    <tr>\n",
       "      <th>13</th>\n",
       "      <td>2021-11-04</td>\n",
       "      <td>2022-11-04</td>\n",
       "      <td>KRW</td>\n",
       "      <td>70000000000.00000</td>\n",
       "      <td>우리</td>\n",
       "      <td>KRZE08402BB4</td>\n",
       "      <td>우리 여의도기업영업지원팀 20211104-365-2</td>\n",
       "      <td>AAA0(A1)</td>\n",
       "    </tr>\n",
       "    <tr>\n",
       "      <th>14</th>\n",
       "      <td>2022-05-10</td>\n",
       "      <td>2022-07-29</td>\n",
       "      <td>KRW</td>\n",
       "      <td>90000000000.00000</td>\n",
       "      <td>하나</td>\n",
       "      <td>KRZE08101C5A</td>\n",
       "      <td>하나 금융기관영업유닛(기관사업섹션 20220510-80-1</td>\n",
       "      <td>AAA0(A1)</td>\n",
       "    </tr>\n",
       "    <tr>\n",
       "      <th>15</th>\n",
       "      <td>2022-05-10</td>\n",
       "      <td>2022-07-29</td>\n",
       "      <td>KRW</td>\n",
       "      <td>90000000000.00000</td>\n",
       "      <td>하나</td>\n",
       "      <td>KRZE08102C5A</td>\n",
       "      <td>하나 금융기관영업유닛(기관사업섹션 20220510-80-2</td>\n",
       "      <td>AAA0(A1)</td>\n",
       "    </tr>\n",
       "    <tr>\n",
       "      <th>16</th>\n",
       "      <td>2021-12-06</td>\n",
       "      <td>2022-12-06</td>\n",
       "      <td>KRW</td>\n",
       "      <td>30000000000.00000</td>\n",
       "      <td>하나</td>\n",
       "      <td>KRZE08101BC6</td>\n",
       "      <td>하나 금융기관영업유닛(기관사업섹션 20211206-365-1</td>\n",
       "      <td>AAA0(A1)</td>\n",
       "    </tr>\n",
       "    <tr>\n",
       "      <th>17</th>\n",
       "      <td>2021-12-06</td>\n",
       "      <td>2022-12-06</td>\n",
       "      <td>KRW</td>\n",
       "      <td>30000000000.00000</td>\n",
       "      <td>하나</td>\n",
       "      <td>KRZE08102BC6</td>\n",
       "      <td>하나 금융기관영업유닛(기관사업섹션 20211206-365-2</td>\n",
       "      <td>AAA0(A1)</td>\n",
       "    </tr>\n",
       "    <tr>\n",
       "      <th>18</th>\n",
       "      <td>2021-04-22</td>\n",
       "      <td>2022-04-22</td>\n",
       "      <td>KRW</td>\n",
       "      <td>50000000000.00000</td>\n",
       "      <td>경남</td>\n",
       "      <td>KRZE03901B4N</td>\n",
       "      <td>경남 서울(지) 20210422-365-1</td>\n",
       "      <td>None</td>\n",
       "    </tr>\n",
       "    <tr>\n",
       "      <th>19</th>\n",
       "      <td>2021-04-22</td>\n",
       "      <td>2022-04-22</td>\n",
       "      <td>KRW</td>\n",
       "      <td>50000000000.00000</td>\n",
       "      <td>경남</td>\n",
       "      <td>KRZE03902B4N</td>\n",
       "      <td>경남 서울(지) 20210422-365-2</td>\n",
       "      <td>None</td>\n",
       "    </tr>\n",
       "    <tr>\n",
       "      <th>20</th>\n",
       "      <td>2023-04-17</td>\n",
       "      <td>2023-10-16</td>\n",
       "      <td>KRW</td>\n",
       "      <td>45000000000.00000</td>\n",
       "      <td>우리</td>\n",
       "      <td>KRZE08401D4H</td>\n",
       "      <td>우리 여의도중앙기업영업지원팀 20230417-182-1</td>\n",
       "      <td>AAA0(A1)</td>\n",
       "    </tr>\n",
       "    <tr>\n",
       "      <th>21</th>\n",
       "      <td>2023-04-17</td>\n",
       "      <td>2023-10-16</td>\n",
       "      <td>KRW</td>\n",
       "      <td>45000000000.00000</td>\n",
       "      <td>우리</td>\n",
       "      <td>KRZE08402D4H</td>\n",
       "      <td>우리 여의도기업영업지원팀 20230417-182-2</td>\n",
       "      <td>AAA0(A1)</td>\n",
       "    </tr>\n",
       "    <tr>\n",
       "      <th>22</th>\n",
       "      <td>2023-10-25</td>\n",
       "      <td>2024-01-25</td>\n",
       "      <td>KRW</td>\n",
       "      <td>20000000000.00000</td>\n",
       "      <td>우리</td>\n",
       "      <td>KRZE08401DAR</td>\n",
       "      <td>우리 여의도중앙기업영업지원팀 20231025-92-1</td>\n",
       "      <td>AAA0(A1)</td>\n",
       "    </tr>\n",
       "    <tr>\n",
       "      <th>23</th>\n",
       "      <td>2023-10-25</td>\n",
       "      <td>2024-01-25</td>\n",
       "      <td>KRW</td>\n",
       "      <td>20000000000.00000</td>\n",
       "      <td>우리</td>\n",
       "      <td>KRZE08402DAR</td>\n",
       "      <td>우리 여의도기업영업지원팀 20231025-92-2</td>\n",
       "      <td>AAA0(A1)</td>\n",
       "    </tr>\n",
       "    <tr>\n",
       "      <th>24</th>\n",
       "      <td>2020-05-08</td>\n",
       "      <td>2020-07-07</td>\n",
       "      <td>KRW</td>\n",
       "      <td>100000000000.00000</td>\n",
       "      <td>우리</td>\n",
       "      <td>KRZE08401A58</td>\n",
       "      <td>우리 여의도중앙기업영업지원팀 20200508-60-1</td>\n",
       "      <td>AAA0(A1)</td>\n",
       "    </tr>\n",
       "    <tr>\n",
       "      <th>25</th>\n",
       "      <td>2020-05-08</td>\n",
       "      <td>2020-07-07</td>\n",
       "      <td>KRW</td>\n",
       "      <td>100000000000.00000</td>\n",
       "      <td>우리</td>\n",
       "      <td>KRZE08402A58</td>\n",
       "      <td>우리 여의도기업영업지원팀 20200508-60-2</td>\n",
       "      <td>AAA0(A1)</td>\n",
       "    </tr>\n",
       "    <tr>\n",
       "      <th>26</th>\n",
       "      <td>2020-04-09</td>\n",
       "      <td>2021-04-09</td>\n",
       "      <td>KRW</td>\n",
       "      <td>30000000000.00000</td>\n",
       "      <td>경남</td>\n",
       "      <td>KRZE03901A49</td>\n",
       "      <td>경남 서울(지) 20200409-365-1</td>\n",
       "      <td>None</td>\n",
       "    </tr>\n",
       "    <tr>\n",
       "      <th>27</th>\n",
       "      <td>2020-04-09</td>\n",
       "      <td>2021-04-09</td>\n",
       "      <td>KRW</td>\n",
       "      <td>30000000000.00000</td>\n",
       "      <td>경남</td>\n",
       "      <td>KRZE03902A49</td>\n",
       "      <td>경남 서울(지) 20200409-365-2</td>\n",
       "      <td>None</td>\n",
       "    </tr>\n",
       "    <tr>\n",
       "      <th>28</th>\n",
       "      <td>2020-11-03</td>\n",
       "      <td>2021-05-03</td>\n",
       "      <td>KRW</td>\n",
       "      <td>20000000000.00000</td>\n",
       "      <td>부산</td>\n",
       "      <td>KRZE03201AB3</td>\n",
       "      <td>부산 금융시장지원부 20201103-181-1</td>\n",
       "      <td>None</td>\n",
       "    </tr>\n",
       "    <tr>\n",
       "      <th>29</th>\n",
       "      <td>2020-11-03</td>\n",
       "      <td>2021-05-03</td>\n",
       "      <td>KRW</td>\n",
       "      <td>20000000000.00000</td>\n",
       "      <td>부산</td>\n",
       "      <td>KRZE03202AB3</td>\n",
       "      <td>부산 금융시장지원부 20201103-181-2</td>\n",
       "      <td>None</td>\n",
       "    </tr>\n",
       "  </tbody>\n",
       "</table>\n",
       "</div>"
      ],
      "text/plain": [
       "           발행일         만기일 발행통화               발행금액 종목명_mat          종목코드  \\\n",
       "0   2023-08-16  2024-08-13  KRW  20000000000.00000      우리  KRZE08402D8G   \n",
       "1   2023-08-16  2024-08-13  KRW  20000000000.00000      우리  KRZE08405D8G   \n",
       "2   2014-11-25  2015-01-26  KRW  70000000000.00000      우리  KRZE020024BR   \n",
       "3   2014-11-25  2015-01-26  KRW  70000000000.00000      우리  KRZE020034BR   \n",
       "4   2019-01-04  2019-04-04  KRW 100000000000.00000      우리  KRZE08401914   \n",
       "5   2019-01-04  2019-04-04  KRW 100000000000.00000      우리  KRZE08402914   \n",
       "6   2023-02-09  2023-03-13  KRW  60000000000.00000      우리  KRZE08402D29   \n",
       "7   2023-02-09  2023-03-13  KRW  60000000000.00000      우리  KRZE08403D29   \n",
       "8   2022-11-29  2023-02-28  KRW  10000000000.00000      우리  KRZE08401CBW   \n",
       "9   2022-11-29  2023-02-28  KRW  10000000000.00000      우리  KRZE08402CBW   \n",
       "10  2023-04-13  2023-07-21  KRW 150000000000.00000      우리  KRZE08401D4D   \n",
       "11  2023-04-13  2023-07-21  KRW 150000000000.00000      우리  KRZE08402D4D   \n",
       "12  2021-11-04  2022-11-04  KRW  70000000000.00000      우리  KRZE08401BB4   \n",
       "13  2021-11-04  2022-11-04  KRW  70000000000.00000      우리  KRZE08402BB4   \n",
       "14  2022-05-10  2022-07-29  KRW  90000000000.00000      하나  KRZE08101C5A   \n",
       "15  2022-05-10  2022-07-29  KRW  90000000000.00000      하나  KRZE08102C5A   \n",
       "16  2021-12-06  2022-12-06  KRW  30000000000.00000      하나  KRZE08101BC6   \n",
       "17  2021-12-06  2022-12-06  KRW  30000000000.00000      하나  KRZE08102BC6   \n",
       "18  2021-04-22  2022-04-22  KRW  50000000000.00000      경남  KRZE03901B4N   \n",
       "19  2021-04-22  2022-04-22  KRW  50000000000.00000      경남  KRZE03902B4N   \n",
       "20  2023-04-17  2023-10-16  KRW  45000000000.00000      우리  KRZE08401D4H   \n",
       "21  2023-04-17  2023-10-16  KRW  45000000000.00000      우리  KRZE08402D4H   \n",
       "22  2023-10-25  2024-01-25  KRW  20000000000.00000      우리  KRZE08401DAR   \n",
       "23  2023-10-25  2024-01-25  KRW  20000000000.00000      우리  KRZE08402DAR   \n",
       "24  2020-05-08  2020-07-07  KRW 100000000000.00000      우리  KRZE08401A58   \n",
       "25  2020-05-08  2020-07-07  KRW 100000000000.00000      우리  KRZE08402A58   \n",
       "26  2020-04-09  2021-04-09  KRW  30000000000.00000      경남  KRZE03901A49   \n",
       "27  2020-04-09  2021-04-09  KRW  30000000000.00000      경남  KRZE03902A49   \n",
       "28  2020-11-03  2021-05-03  KRW  20000000000.00000      부산  KRZE03201AB3   \n",
       "29  2020-11-03  2021-05-03  KRW  20000000000.00000      부산  KRZE03202AB3   \n",
       "\n",
       "                                  종목명  발행은행신용등급  \n",
       "0        우리 여의도기업영업지원팀 20230816-363-2  AAA0(A1)  \n",
       "1      우리 여의도중앙기업영업지원팀 20230816-363-5  AAA0(A1)  \n",
       "2          우리 여의도중앙금융센터 20141125-62-2  AAA0(A1)  \n",
       "3            우리 여의도금융센터 20141125-62-3  AAA0(A1)  \n",
       "4       우리 여의도중앙기업영업지원팀 20190104-90-1  AAA0(A1)  \n",
       "5         우리 여의도기업영업지원팀 20190104-90-2  AAA0(A1)  \n",
       "6         우리 여의도기업영업지원팀 20230209-32-2  AAA0(A1)  \n",
       "7       우리 여의도중앙기업영업지원팀 20230209-32-3  AAA0(A1)  \n",
       "8       우리 여의도중앙기업영업지원팀 20221129-91-1  AAA0(A1)  \n",
       "9         우리 여의도기업영업지원팀 20221129-91-2  AAA0(A1)  \n",
       "10      우리 여의도중앙기업영업지원팀 20230413-99-1  AAA0(A1)  \n",
       "11        우리 여의도기업영업지원팀 20230413-99-2  AAA0(A1)  \n",
       "12     우리 여의도중앙기업영업지원팀 20211104-365-1  AAA0(A1)  \n",
       "13       우리 여의도기업영업지원팀 20211104-365-2  AAA0(A1)  \n",
       "14   하나 금융기관영업유닛(기관사업섹션 20220510-80-1  AAA0(A1)  \n",
       "15   하나 금융기관영업유닛(기관사업섹션 20220510-80-2  AAA0(A1)  \n",
       "16  하나 금융기관영업유닛(기관사업섹션 20211206-365-1  AAA0(A1)  \n",
       "17  하나 금융기관영업유닛(기관사업섹션 20211206-365-2  AAA0(A1)  \n",
       "18            경남 서울(지) 20210422-365-1      None  \n",
       "19            경남 서울(지) 20210422-365-2      None  \n",
       "20     우리 여의도중앙기업영업지원팀 20230417-182-1  AAA0(A1)  \n",
       "21       우리 여의도기업영업지원팀 20230417-182-2  AAA0(A1)  \n",
       "22      우리 여의도중앙기업영업지원팀 20231025-92-1  AAA0(A1)  \n",
       "23        우리 여의도기업영업지원팀 20231025-92-2  AAA0(A1)  \n",
       "24      우리 여의도중앙기업영업지원팀 20200508-60-1  AAA0(A1)  \n",
       "25        우리 여의도기업영업지원팀 20200508-60-2  AAA0(A1)  \n",
       "26            경남 서울(지) 20200409-365-1      None  \n",
       "27            경남 서울(지) 20200409-365-2      None  \n",
       "28          부산 금융시장지원부 20201103-181-1      None  \n",
       "29          부산 금융시장지원부 20201103-181-2      None  "
      ]
     },
     "execution_count": 35,
     "metadata": {},
     "output_type": "execute_result"
    }
   ],
   "source": [
    "t = seibro_detail[[\"발행일\", \"만기일\", \"발행통화\", \"발행금액\", \"종목명_mat\"]].value_counts()\n",
    "print(t.shape)\n",
    "print(t[t>1].shape)\n",
    "temp = pd.merge(t[t>1], seibro_detail, left_on=[\"발행일\", \"만기일\", \"발행통화\", \"발행금액\", \"종목명_mat\"], right_on=[\"발행일\", \"만기일\", \"발행통화\", \"발행금액\", \"종목명_mat\"], how=\"left\") #.sort_values([\"발행일\", \"만기일\", \"발행통화\", \"발행금액\", \"종목명_mat\"])\n",
    "# temp.iloc[0]\n",
    "temp[[\n",
    "    \"발행일\", \"만기일\", \"발행통화\", \"발행금액\", \"종목명_mat\",  \"종목코드\", \"종목명\", \"발행은행신용등급\"\n",
    "]]"
   ]
  },
  {
   "cell_type": "code",
   "execution_count": 36,
   "metadata": {},
   "outputs": [
    {
     "name": "stdout",
     "output_type": "stream",
     "text": [
      "Index(['발행일', '발행기관', '만기일', '만기', '발행금리(%)', '발행금액(억원)', '통화구분', '종목명_kofia',\n",
      "       '종목명_mat', '발행금액', '발행은행', '발행은행코드', 'ISSUCO_CUSTNO', 'REP_SECN_NM',\n",
      "       '종목코드', '종목명_seibro', '액면금액', '매출금액', '할인율', '잔존일물', '발행형태', '발행통화',\n",
      "       '지급은행지점코드', 'PAY_BANK_MOFNO', '발행은행신용등급', '지급은행', 'CREDITRT_DT',\n",
      "       'VALAT_GRD_CD_NM', '등록일자', '종목번호', '발행인유형', '종목명_clean', '_merge'],\n",
      "      dtype='object')\n"
     ]
    },
    {
     "data": {
      "text/plain": [
       "_merge\n",
       "both          2309\n",
       "right_only    1254\n",
       "left_only      546\n",
       "Name: count, dtype: int64"
      ]
     },
     "execution_count": 36,
     "metadata": {},
     "output_type": "execute_result"
    }
   ],
   "source": [
    "kofia[\"발행금액\"] = kofia[\"발행금액(억원)\"] * 100000000\n",
    "merge = pd.merge(\n",
    "    kofia, \n",
    "    # seibro_detail.groupby([\"발행일\", \"만기일\", \"발행통화\", \"종목명_mat\", \"발행인유형\"]).agg({\n",
    "    #     \"발행금액\": \"sum\", \"종목코드\": \"count\", \"액면금액\": \"sum\", \"매출금액\": \"sum\", \"종목코드\": \"first\",\n",
    "    # }).reset_index().sort_values(\"종목코드\", ascending=False), \n",
    "    seibro_detail[~seibro_detail[\"종목코드\"].isin(temp[\"종목코드\"])],\n",
    "    left_on=[\n",
    "        \"발행일\", \"만기일\", \"통화구분\", \"발행금액\", \"종목명_mat\"\n",
    "    ], right_on=[\n",
    "        \"발행일\", \"만기일\", \"발행통화\", \"발행금액\", \"종목명_mat\"\n",
    "    ],\n",
    "    how=\"outer\", indicator=True, validate=\"m:1\",\n",
    "    suffixes=(\"_kofia\", \"_seibro\")\n",
    ")\n",
    "print(merge.columns)\n",
    "merge[\"_merge\"].value_counts()"
   ]
  },
  {
   "cell_type": "code",
   "execution_count": 37,
   "metadata": {},
   "outputs": [
    {
     "data": {
      "text/html": [
       "<div>\n",
       "<style scoped>\n",
       "    .dataframe tbody tr th:only-of-type {\n",
       "        vertical-align: middle;\n",
       "    }\n",
       "\n",
       "    .dataframe tbody tr th {\n",
       "        vertical-align: top;\n",
       "    }\n",
       "\n",
       "    .dataframe thead th {\n",
       "        text-align: right;\n",
       "    }\n",
       "</style>\n",
       "<table border=\"1\" class=\"dataframe\">\n",
       "  <thead>\n",
       "    <tr style=\"text-align: right;\">\n",
       "      <th></th>\n",
       "      <th>발행금리(%)</th>\n",
       "      <th>할인율</th>\n",
       "      <th>발행금액</th>\n",
       "      <th>액면금액</th>\n",
       "    </tr>\n",
       "  </thead>\n",
       "  <tbody>\n",
       "    <tr>\n",
       "      <th>101</th>\n",
       "      <td>2.86000</td>\n",
       "      <td>2.85000</td>\n",
       "      <td>100000000000.00000</td>\n",
       "      <td>10000000000.00000</td>\n",
       "    </tr>\n",
       "    <tr>\n",
       "      <th>105</th>\n",
       "      <td>2.85000</td>\n",
       "      <td>2.84000</td>\n",
       "      <td>20000000000.00000</td>\n",
       "      <td>10000000000.00000</td>\n",
       "    </tr>\n",
       "    <tr>\n",
       "      <th>106</th>\n",
       "      <td>2.85000</td>\n",
       "      <td>2.84000</td>\n",
       "      <td>40000000000.00000</td>\n",
       "      <td>10000000000.00000</td>\n",
       "    </tr>\n",
       "    <tr>\n",
       "      <th>107</th>\n",
       "      <td>2.85000</td>\n",
       "      <td>2.84000</td>\n",
       "      <td>100000000000.00000</td>\n",
       "      <td>10000000000.00000</td>\n",
       "    </tr>\n",
       "    <tr>\n",
       "      <th>108</th>\n",
       "      <td>2.85000</td>\n",
       "      <td>2.84000</td>\n",
       "      <td>20000000000.00000</td>\n",
       "      <td>10000000000.00000</td>\n",
       "    </tr>\n",
       "    <tr>\n",
       "      <th>...</th>\n",
       "      <td>...</td>\n",
       "      <td>...</td>\n",
       "      <td>...</td>\n",
       "      <td>...</td>\n",
       "    </tr>\n",
       "    <tr>\n",
       "      <th>3685</th>\n",
       "      <td>3.82000</td>\n",
       "      <td>3.72000</td>\n",
       "      <td>10000000000.00000</td>\n",
       "      <td>5000000000.00000</td>\n",
       "    </tr>\n",
       "    <tr>\n",
       "      <th>3686</th>\n",
       "      <td>3.83000</td>\n",
       "      <td>3.70000</td>\n",
       "      <td>45000000000.00000</td>\n",
       "      <td>5000000000.00000</td>\n",
       "    </tr>\n",
       "    <tr>\n",
       "      <th>3687</th>\n",
       "      <td>4.00000</td>\n",
       "      <td>3.86000</td>\n",
       "      <td>175000000000.00000</td>\n",
       "      <td>5000000000.00000</td>\n",
       "    </tr>\n",
       "    <tr>\n",
       "      <th>3688</th>\n",
       "      <td>3.82000</td>\n",
       "      <td>3.76000</td>\n",
       "      <td>150000000000.00000</td>\n",
       "      <td>5000000000.00000</td>\n",
       "    </tr>\n",
       "    <tr>\n",
       "      <th>3689</th>\n",
       "      <td>3.83000</td>\n",
       "      <td>3.70000</td>\n",
       "      <td>145000000000.00000</td>\n",
       "      <td>5000000000.00000</td>\n",
       "    </tr>\n",
       "  </tbody>\n",
       "</table>\n",
       "<p>2309 rows × 4 columns</p>\n",
       "</div>"
      ],
      "text/plain": [
       "      발행금리(%)     할인율               발행금액              액면금액\n",
       "101   2.86000 2.85000 100000000000.00000 10000000000.00000\n",
       "105   2.85000 2.84000  20000000000.00000 10000000000.00000\n",
       "106   2.85000 2.84000  40000000000.00000 10000000000.00000\n",
       "107   2.85000 2.84000 100000000000.00000 10000000000.00000\n",
       "108   2.85000 2.84000  20000000000.00000 10000000000.00000\n",
       "...       ...     ...                ...               ...\n",
       "3685  3.82000 3.72000  10000000000.00000  5000000000.00000\n",
       "3686  3.83000 3.70000  45000000000.00000  5000000000.00000\n",
       "3687  4.00000 3.86000 175000000000.00000  5000000000.00000\n",
       "3688  3.82000 3.76000 150000000000.00000  5000000000.00000\n",
       "3689  3.83000 3.70000 145000000000.00000  5000000000.00000\n",
       "\n",
       "[2309 rows x 4 columns]"
      ]
     },
     "execution_count": 37,
     "metadata": {},
     "output_type": "execute_result"
    }
   ],
   "source": [
    "merge[merge[\"_merge\"]==\"both\"][[\"발행금리(%)\", \"할인율\", \"발행금액\", \"액면금액\"]]"
   ]
  },
  {
   "cell_type": "code",
   "execution_count": 38,
   "metadata": {},
   "outputs": [
    {
     "name": "stdout",
     "output_type": "stream",
     "text": [
      "(485, 34) (546, 33) (485,)\n",
      "(842, 34) (1254, 33) (842,)\n"
     ]
    },
    {
     "data": {
      "text/plain": [
       "_merge\n",
       "right_only    817\n",
       "left_only     460\n",
       "both           25\n",
       "Name: count, dtype: int64"
      ]
     },
     "execution_count": 38,
     "metadata": {},
     "output_type": "execute_result"
    }
   ],
   "source": [
    "left_kofia = merge[merge[\"_merge\"]==\"left_only\"]\n",
    "t = left_kofia[[\"발행일\", \"만기일\", \"종목명_mat\"]].value_counts()\n",
    "left_kofia = pd.merge(t[t==1], left_kofia, left_on=[\"발행일\", \"만기일\", \"종목명_mat\"], right_on=[\"발행일\", \"만기일\", \"종목명_mat\"], how=\"left\")\n",
    "print(left_kofia.shape, merge[merge[\"_merge\"]==\"left_only\"].shape, left_kofia[[ \"발행일\", \"만기일\", \"종목명_mat\"]].value_counts().shape)\n",
    "\n",
    "left_seibro = merge[merge[\"_merge\"]==\"right_only\"]\n",
    "t = left_seibro[[\"발행일\", \"만기일\", \"종목명_mat\"]].value_counts()\n",
    "left_seibro = pd.merge(t[t==1], left_seibro, left_on=[\"발행일\", \"만기일\", \"종목명_mat\"], right_on=[\"발행일\", \"만기일\", \"종목명_mat\"], how=\"left\")\n",
    "print(left_seibro.shape, merge[merge[\"_merge\"]==\"right_only\"].shape, left_seibro[[ \"발행일\", \"만기일\", \"종목명_mat\"]].value_counts().shape)\n",
    "\n",
    "left_merge = pd.merge(\n",
    "    left_kofia.drop(columns=['_merge']), left_seibro.drop(columns=['_merge']),\n",
    "    left_on=[\n",
    "        \"발행일\", \"만기일\", \"종목명_mat\"\n",
    "    ], right_on=[\n",
    "        \"발행일\", \"만기일\", \"종목명_mat\"\n",
    "    ],\n",
    "    how=\"outer\", indicator=True, validate=\"1:1\",\n",
    "    suffixes=(\"_kofia\", \"_seibro\")\n",
    ").sort_values([\"_merge\", \"발행일\"])\n",
    "left_merge[\"_merge\"].value_counts()"
   ]
  },
  {
   "cell_type": "code",
   "execution_count": 39,
   "metadata": {},
   "outputs": [
    {
     "data": {
      "text/html": [
       "<div>\n",
       "<style scoped>\n",
       "    .dataframe tbody tr th:only-of-type {\n",
       "        vertical-align: middle;\n",
       "    }\n",
       "\n",
       "    .dataframe tbody tr th {\n",
       "        vertical-align: top;\n",
       "    }\n",
       "\n",
       "    .dataframe thead th {\n",
       "        text-align: right;\n",
       "    }\n",
       "</style>\n",
       "<table border=\"1\" class=\"dataframe\">\n",
       "  <thead>\n",
       "    <tr style=\"text-align: right;\">\n",
       "      <th></th>\n",
       "      <th>발행일</th>\n",
       "      <th>만기일</th>\n",
       "      <th>종목명_mat</th>\n",
       "      <th>발행금액_kofia</th>\n",
       "    </tr>\n",
       "  </thead>\n",
       "  <tbody>\n",
       "    <tr>\n",
       "      <th>97</th>\n",
       "      <td>2012-10-24</td>\n",
       "      <td>2013-02-25</td>\n",
       "      <td>우리</td>\n",
       "      <td>100000000000.00000</td>\n",
       "    </tr>\n",
       "    <tr>\n",
       "      <th>98</th>\n",
       "      <td>2012-11-06</td>\n",
       "      <td>2013-02-05</td>\n",
       "      <td>우리</td>\n",
       "      <td>150000000000.00000</td>\n",
       "    </tr>\n",
       "    <tr>\n",
       "      <th>99</th>\n",
       "      <td>2012-11-15</td>\n",
       "      <td>2013-02-14</td>\n",
       "      <td>우리</td>\n",
       "      <td>100000000000.00000</td>\n",
       "    </tr>\n",
       "    <tr>\n",
       "      <th>101</th>\n",
       "      <td>2013-01-02</td>\n",
       "      <td>2014-04-03</td>\n",
       "      <td>경남</td>\n",
       "      <td>40000000000.00000</td>\n",
       "    </tr>\n",
       "    <tr>\n",
       "      <th>103</th>\n",
       "      <td>2013-01-14</td>\n",
       "      <td>2013-04-16</td>\n",
       "      <td>신한</td>\n",
       "      <td>100000000000.00000</td>\n",
       "    </tr>\n",
       "    <tr>\n",
       "      <th>...</th>\n",
       "      <td>...</td>\n",
       "      <td>...</td>\n",
       "      <td>...</td>\n",
       "      <td>...</td>\n",
       "    </tr>\n",
       "    <tr>\n",
       "      <th>929</th>\n",
       "      <td>2023-12-01</td>\n",
       "      <td>2024-06-03</td>\n",
       "      <td>우리</td>\n",
       "      <td>130000000000.00000</td>\n",
       "    </tr>\n",
       "    <tr>\n",
       "      <th>930</th>\n",
       "      <td>2023-12-04</td>\n",
       "      <td>2024-05-03</td>\n",
       "      <td>기업</td>\n",
       "      <td>30000000000.00000</td>\n",
       "    </tr>\n",
       "    <tr>\n",
       "      <th>931</th>\n",
       "      <td>2023-12-05</td>\n",
       "      <td>2024-09-05</td>\n",
       "      <td>우리</td>\n",
       "      <td>120000000000.00000</td>\n",
       "    </tr>\n",
       "    <tr>\n",
       "      <th>932</th>\n",
       "      <td>2023-12-14</td>\n",
       "      <td>2024-06-14</td>\n",
       "      <td>우리</td>\n",
       "      <td>105000000000.00000</td>\n",
       "    </tr>\n",
       "    <tr>\n",
       "      <th>933</th>\n",
       "      <td>2023-12-19</td>\n",
       "      <td>2024-06-19</td>\n",
       "      <td>우리</td>\n",
       "      <td>50000000000.00000</td>\n",
       "    </tr>\n",
       "  </tbody>\n",
       "</table>\n",
       "<p>460 rows × 4 columns</p>\n",
       "</div>"
      ],
      "text/plain": [
       "            발행일         만기일 종목명_mat         발행금액_kofia\n",
       "97   2012-10-24  2013-02-25      우리 100000000000.00000\n",
       "98   2012-11-06  2013-02-05      우리 150000000000.00000\n",
       "99   2012-11-15  2013-02-14      우리 100000000000.00000\n",
       "101  2013-01-02  2014-04-03      경남  40000000000.00000\n",
       "103  2013-01-14  2013-04-16      신한 100000000000.00000\n",
       "..          ...         ...     ...                ...\n",
       "929  2023-12-01  2024-06-03      우리 130000000000.00000\n",
       "930  2023-12-04  2024-05-03      기업  30000000000.00000\n",
       "931  2023-12-05  2024-09-05      우리 120000000000.00000\n",
       "932  2023-12-14  2024-06-14      우리 105000000000.00000\n",
       "933  2023-12-19  2024-06-19      우리  50000000000.00000\n",
       "\n",
       "[460 rows x 4 columns]"
      ]
     },
     "execution_count": 39,
     "metadata": {},
     "output_type": "execute_result"
    }
   ],
   "source": [
    "left_merge.loc[left_merge[\"_merge\"]==\"left_only\", [ \"발행일\", \"만기일\", \"종목명_mat\", \"발행금액_kofia\"]]"
   ]
  },
  {
   "cell_type": "code",
   "execution_count": 40,
   "metadata": {},
   "outputs": [
    {
     "data": {
      "text/html": [
       "<div>\n",
       "<style scoped>\n",
       "    .dataframe tbody tr th:only-of-type {\n",
       "        vertical-align: middle;\n",
       "    }\n",
       "\n",
       "    .dataframe tbody tr th {\n",
       "        vertical-align: top;\n",
       "    }\n",
       "\n",
       "    .dataframe thead th {\n",
       "        text-align: right;\n",
       "    }\n",
       "</style>\n",
       "<table border=\"1\" class=\"dataframe\">\n",
       "  <thead>\n",
       "    <tr style=\"text-align: right;\">\n",
       "      <th></th>\n",
       "      <th>발행일</th>\n",
       "      <th>만기일</th>\n",
       "      <th>종목명_mat</th>\n",
       "      <th>발행금액_seibro</th>\n",
       "    </tr>\n",
       "  </thead>\n",
       "  <tbody>\n",
       "    <tr>\n",
       "      <th>100</th>\n",
       "      <td>2013-01-02</td>\n",
       "      <td>2013-04-03</td>\n",
       "      <td>경남</td>\n",
       "      <td>40000000000.00000</td>\n",
       "    </tr>\n",
       "    <tr>\n",
       "      <th>102</th>\n",
       "      <td>2013-01-14</td>\n",
       "      <td>2013-04-15</td>\n",
       "      <td>신한</td>\n",
       "      <td>100000000000.00000</td>\n",
       "    </tr>\n",
       "    <tr>\n",
       "      <th>104</th>\n",
       "      <td>2013-01-18</td>\n",
       "      <td>2013-04-19</td>\n",
       "      <td>스탠다드차타드</td>\n",
       "      <td>206799454997.00000</td>\n",
       "    </tr>\n",
       "    <tr>\n",
       "      <th>109</th>\n",
       "      <td>2013-04-19</td>\n",
       "      <td>2013-07-19</td>\n",
       "      <td>스탠다드차타드</td>\n",
       "      <td>208091147213.00000</td>\n",
       "    </tr>\n",
       "    <tr>\n",
       "      <th>113</th>\n",
       "      <td>2013-07-03</td>\n",
       "      <td>2013-09-02</td>\n",
       "      <td>Barclays</td>\n",
       "      <td>10000000000.00000</td>\n",
       "    </tr>\n",
       "    <tr>\n",
       "      <th>...</th>\n",
       "      <td>...</td>\n",
       "      <td>...</td>\n",
       "      <td>...</td>\n",
       "      <td>...</td>\n",
       "    </tr>\n",
       "    <tr>\n",
       "      <th>1297</th>\n",
       "      <td>2024-11-14</td>\n",
       "      <td>2025-05-13</td>\n",
       "      <td>하나</td>\n",
       "      <td>30000000000.00000</td>\n",
       "    </tr>\n",
       "    <tr>\n",
       "      <th>1298</th>\n",
       "      <td>2024-11-14</td>\n",
       "      <td>2025-05-14</td>\n",
       "      <td>광주</td>\n",
       "      <td>20000000000.00000</td>\n",
       "    </tr>\n",
       "    <tr>\n",
       "      <th>1299</th>\n",
       "      <td>2024-11-15</td>\n",
       "      <td>2025-02-11</td>\n",
       "      <td>전북</td>\n",
       "      <td>60000000000.00000</td>\n",
       "    </tr>\n",
       "    <tr>\n",
       "      <th>1300</th>\n",
       "      <td>2024-11-15</td>\n",
       "      <td>2025-02-21</td>\n",
       "      <td>하나</td>\n",
       "      <td>125000000000.00000</td>\n",
       "    </tr>\n",
       "    <tr>\n",
       "      <th>1301</th>\n",
       "      <td>2024-11-15</td>\n",
       "      <td>2025-05-15</td>\n",
       "      <td>광주</td>\n",
       "      <td>70000000000.00000</td>\n",
       "    </tr>\n",
       "  </tbody>\n",
       "</table>\n",
       "<p>720 rows × 4 columns</p>\n",
       "</div>"
      ],
      "text/plain": [
       "             발행일         만기일   종목명_mat        발행금액_seibro\n",
       "100   2013-01-02  2013-04-03        경남  40000000000.00000\n",
       "102   2013-01-14  2013-04-15        신한 100000000000.00000\n",
       "104   2013-01-18  2013-04-19   스탠다드차타드 206799454997.00000\n",
       "109   2013-04-19  2013-07-19   스탠다드차타드 208091147213.00000\n",
       "113   2013-07-03  2013-09-02  Barclays  10000000000.00000\n",
       "...          ...         ...       ...                ...\n",
       "1297  2024-11-14  2025-05-13        하나  30000000000.00000\n",
       "1298  2024-11-14  2025-05-14        광주  20000000000.00000\n",
       "1299  2024-11-15  2025-02-11        전북  60000000000.00000\n",
       "1300  2024-11-15  2025-02-21        하나 125000000000.00000\n",
       "1301  2024-11-15  2025-05-15        광주  70000000000.00000\n",
       "\n",
       "[720 rows x 4 columns]"
      ]
     },
     "execution_count": 40,
     "metadata": {},
     "output_type": "execute_result"
    }
   ],
   "source": [
    "left_merge.loc[(left_merge[\"_merge\"]==\"right_only\") & (left_merge['발행일'] >= \"2012-10-26\") , [\"발행일\", \"만기일\", \"종목명_mat\", \"발행금액_seibro\"]]"
   ]
  },
  {
   "cell_type": "markdown",
   "metadata": {},
   "source": [
    "# Transaction\n",
    "\n",
    "\n",
    "1. Feature\n",
    "- 공통점: ['거래일', '발행기관', '발행일', '만기일', '수익률', '통화']\n",
    "- 차이점: \n",
    "  - Kofia: ['거래구분', '정정여부', '거래대금(억원)', '거래량(억원)', ]\n",
    "  - Seibro: ['표준코드', '종목명', '매수유형', '매도유형', '매매금액']\n",
    "\n",
    "- ex\n",
    "  - 거래구분 : 매수 or 매도\n",
    "  - 발행인유형 : 시중은행, 지방은행, 특수은행, 외은지점\n",
    "  - 매수유형, 매도유형 : 국가지자체, 국내은행, 보험, 연기금, 외국은행, 증권사 ...\n",
    "\n",
    "\n",
    "2. 결론\n",
    "- 공개된 CD 거래데이터는 seibro 거래데이터와 비교하여 크게 차이남\n",
    "- 표준코드 포함하여 거래 데이터 받을 수 있으면 좋을 듯"
   ]
  },
  {
   "cell_type": "code",
   "execution_count": 45,
   "metadata": {},
   "outputs": [
    {
     "name": "stdout",
     "output_type": "stream",
     "text": [
      "70952 67496\n",
      "Index(['거래일자', '시간', '발행기관', '발행일', '만기일', '잔존기간', '수익률(%)', '거래량(억원)',\n",
      "       '거래대금(억원)', '통화구분', '거래구분', '정정여부'],\n",
      "      dtype='object')\n",
      "\n",
      "매도유형   국가·지자체  국내은행  기타 금융업  보험  여신 금융업  연기금·공제  외국은행  은행(신탁)    증권사  증권사(신탁)  \\\n",
      "count     372    39    1043  69       2     623    33       6  49027     1124   \n",
      "\n",
      "매도유형    집합투자  \n",
      "count  12808   매수유형   국가·지자체  국내은행  기타 금융업  기타(신탁)   보험  비거주자  여신 금융업  연기금·공제  외국은행  은행(신탁)  \\\n",
      "count    1187   292     992     166  211    61     192    2044   306      74   \n",
      "\n",
      "매수유형     증권사  증권사(신탁)   집합투자  \n",
      "count  20280     1978  37363  \n",
      "65146 36392\n",
      "Index(['기준일자', 'SELLER_INDTP_TPCD', '매도유형', 'BUYER_INDTP_TPCD', '매수유형', '통화',\n",
      "       'SETL_AMT', '금리', 'SHORTM_FNCEGD_CD', '증권구분', '종목번호', '종목명', '발행일',\n",
      "       '만기일', 'GOODS_LEF_XPIR_TPCD', '잔존만기'],\n",
      "      dtype='object')\n",
      "\n"
     ]
    }
   ],
   "source": [
    "kofia = pd.read_csv(\"kofia\\\\trans_detail_CD.csv\").replace(\"-\", None)\n",
    "kofia[\"거래일자\"] = pd.to_datetime(kofia[\"거래일자\"], format=\"%Y%m%d\").dt.strftime(\"%Y-%m-%d\")\n",
    "# kofia[\"발행일\"] = pd.to_datetime(kofia[\"발행일\"].astype(str), format=\"%Y%m%d\").dt.strftime(\"%Y-%m-%d\")\n",
    "kofia[\"만기일\"] = pd.to_datetime(kofia[\"만기일\"], format=\"%Y%m%d\").dt.strftime(\"%Y-%m-%d\")\n",
    "print(kofia.shape[0], kofia.drop_duplicates().shape[0])\n",
    "print(kofia.columns)\n",
    "print()\n",
    "\n",
    "seibro = pd.read_csv(\"seibro\\seibro_cd_trans.csv\").drop(columns=[\"date\", \"NUM\"])\n",
    "seibro[\"기준일자\"] = pd.to_datetime(seibro[\"기준일자\"], format=\"%Y%m%d\").dt.strftime(\"%Y-%m-%d\")\n",
    "seibro[\"발행일\"] = pd.to_datetime(seibro[\"발행일\"], format=\"%Y%m%d\").dt.strftime(\"%Y-%m-%d\")\n",
    "seibro[\"만기일\"] = pd.to_datetime(seibro[\"만기일\"], format=\"%Y%m%d\").dt.strftime(\"%Y-%m-%d\")\n",
    "print(\n",
    "    seibro[\"매도유형\"].value_counts().sort_index().to_frame().T, \n",
    "    seibro[\"매수유형\"].value_counts().sort_index().to_frame().T\n",
    ")\n",
    "print(seibro.shape[0], seibro.drop_duplicates().shape[0])\n",
    "print(seibro.columns)\n",
    "print()\n",
    "\n"
   ]
  },
  {
   "cell_type": "code",
   "execution_count": 46,
   "metadata": {},
   "outputs": [
    {
     "data": {
      "text/html": [
       "<div>\n",
       "<style scoped>\n",
       "    .dataframe tbody tr th:only-of-type {\n",
       "        vertical-align: middle;\n",
       "    }\n",
       "\n",
       "    .dataframe tbody tr th {\n",
       "        vertical-align: top;\n",
       "    }\n",
       "\n",
       "    .dataframe thead th {\n",
       "        text-align: right;\n",
       "    }\n",
       "</style>\n",
       "<table border=\"1\" class=\"dataframe\">\n",
       "  <thead>\n",
       "    <tr style=\"text-align: right;\">\n",
       "      <th></th>\n",
       "      <th>거래대금(억원)</th>\n",
       "      <th>SETL_AMT</th>\n",
       "      <th>diff</th>\n",
       "    </tr>\n",
       "  </thead>\n",
       "  <tbody>\n",
       "    <tr>\n",
       "      <th>mean</th>\n",
       "      <td>38467833.67696</td>\n",
       "      <td>4547.20524</td>\n",
       "      <td>38463286.47172</td>\n",
       "    </tr>\n",
       "    <tr>\n",
       "      <th>std</th>\n",
       "      <td>1174171822.23054</td>\n",
       "      <td>4236.84677</td>\n",
       "      <td>1174171807.99186</td>\n",
       "    </tr>\n",
       "    <tr>\n",
       "      <th>min</th>\n",
       "      <td>26.00000</td>\n",
       "      <td>99.41874</td>\n",
       "      <td>-9985.89657</td>\n",
       "    </tr>\n",
       "    <tr>\n",
       "      <th>25%</th>\n",
       "      <td>996.00000</td>\n",
       "      <td>1595.03977</td>\n",
       "      <td>-1491.68366</td>\n",
       "    </tr>\n",
       "    <tr>\n",
       "      <th>50%</th>\n",
       "      <td>2376.00000</td>\n",
       "      <td>3381.65346</td>\n",
       "      <td>-699.70534</td>\n",
       "    </tr>\n",
       "    <tr>\n",
       "      <th>75%</th>\n",
       "      <td>4867.50000</td>\n",
       "      <td>6081.63800</td>\n",
       "      <td>-199.58503</td>\n",
       "    </tr>\n",
       "    <tr>\n",
       "      <th>max</th>\n",
       "      <td>39875630415.00000</td>\n",
       "      <td>36051.35282</td>\n",
       "      <td>39875624041.12575</td>\n",
       "    </tr>\n",
       "  </tbody>\n",
       "</table>\n",
       "</div>"
      ],
      "text/plain": [
       "              거래대금(억원)    SETL_AMT              diff\n",
       "mean    38467833.67696  4547.20524    38463286.47172\n",
       "std   1174171822.23054  4236.84677  1174171807.99186\n",
       "min           26.00000    99.41874       -9985.89657\n",
       "25%          996.00000  1595.03977       -1491.68366\n",
       "50%         2376.00000  3381.65346        -699.70534\n",
       "75%         4867.50000  6081.63800        -199.58503\n",
       "max  39875630415.00000 36051.35282 39875624041.12575"
      ]
     },
     "execution_count": 46,
     "metadata": {},
     "output_type": "execute_result"
    }
   ],
   "source": [
    "dkofia = kofia[(kofia[\"정정여부\"].isna())]\n",
    "\n",
    "merge = pd.merge(\n",
    "    dkofia.groupby(\"거래일자\").agg({\n",
    "        \"거래대금(억원)\": \"sum\",\n",
    "    }),\n",
    "    seibro.groupby(\"기준일자\").agg({\n",
    "        \"SETL_AMT\": \"sum\",\n",
    "    }),\n",
    "    left_index=True, right_index=True, how=\"inner\",\n",
    ")\n",
    "\n",
    "merge[\"거래대금(억원)\"] = merge[\"거래대금(억원)\"] * 100000000\n",
    "merge[\"SETL_AMT\"] = merge[\"SETL_AMT\"] * 2\n",
    "merge[\"diff\"] = merge[\"거래대금(억원)\"] - merge[\"SETL_AMT\"]\n",
    "(merge.describe() / 100000000).drop(index=\"count\")"
   ]
  },
  {
   "cell_type": "code",
   "execution_count": 48,
   "metadata": {},
   "outputs": [
    {
     "name": "stdout",
     "output_type": "stream",
     "text": [
      "Index(['count_kofia', 'count_seibro'], dtype='object')\n",
      "2012-01-02 2023-12-29\n"
     ]
    }
   ],
   "source": [
    "dkofia = kofia[(kofia[\"정정여부\"].isna()) ]\n",
    "tk = dkofia[\"거래일자\"].value_counts().sort_index()\n",
    "sseibro = pd.concat([seibro, seibro[\n",
    "    ((seibro[\"매수유형\"] == \"증권사\") & (seibro[\"매도유형\"] == \"증권사\")) \\\n",
    "        | ((seibro[\"매수유형\"] == \"증권사\") & (seibro[\"매도유형\"] == \"증권사(신탁)\")) \\\n",
    "        | ((seibro[\"매수유형\"] == \"증권사(신탁)\") & (seibro[\"매도유형\"] == \"증권사\")) \\\n",
    "        | ((seibro[\"매수유형\"] == \"증권사\") & (seibro[\"매도유형\"] == \"외국은행\")) \\\n",
    "]])\n",
    "ts = sseibro[\"기준일자\"].value_counts().sort_index()\n",
    "\n",
    "tm = pd.merge(tk, ts, left_index=True, right_index=True, how=\"inner\",\n",
    "    suffixes=(\"_kofia\", \"_seibro\"))   \n",
    "print(tm.columns)\n",
    "print(tm.index.min(), tm.index.max())"
   ]
  },
  {
   "cell_type": "code",
   "execution_count": 55,
   "metadata": {},
   "outputs": [],
   "source": [
    "tm[\"kofia_larger\"] = (tm[\"count_kofia\"] > tm[\"count_seibro\"]).apply(\n",
    "    lambda x: 1 if x else -1\n",
    ")\n",
    "tm.loc[(tm[\"count_kofia\"] == tm[\"count_seibro\"]), \"kofia_larger\"] = 0\n",
    "tm[\"diff\"] = tm[\"count_kofia\"] - tm[\"count_seibro\"]"
   ]
  },
  {
   "cell_type": "code",
   "execution_count": null,
   "metadata": {},
   "outputs": [
    {
     "name": "stdout",
     "output_type": "stream",
     "text": [
      "604 1987\n",
      "23.311462755692784 76.68853724430721\n",
      "2934\n",
      "1228\n",
      "(2591, 2)\n"
     ]
    },
    {
     "data": {
      "text/html": [
       "<div>\n",
       "<style scoped>\n",
       "    .dataframe tbody tr th:only-of-type {\n",
       "        vertical-align: middle;\n",
       "    }\n",
       "\n",
       "    .dataframe tbody tr th {\n",
       "        vertical-align: top;\n",
       "    }\n",
       "\n",
       "    .dataframe thead th {\n",
       "        text-align: right;\n",
       "    }\n",
       "</style>\n",
       "<table border=\"1\" class=\"dataframe\">\n",
       "  <thead>\n",
       "    <tr style=\"text-align: right;\">\n",
       "      <th></th>\n",
       "      <th>count_kofia</th>\n",
       "      <th>count_seibro</th>\n",
       "    </tr>\n",
       "  </thead>\n",
       "  <tbody>\n",
       "    <tr>\n",
       "      <th>2023-12-15</th>\n",
       "      <td>54</td>\n",
       "      <td>47</td>\n",
       "    </tr>\n",
       "    <tr>\n",
       "      <th>2023-12-18</th>\n",
       "      <td>33</td>\n",
       "      <td>27</td>\n",
       "    </tr>\n",
       "    <tr>\n",
       "      <th>2023-12-19</th>\n",
       "      <td>33</td>\n",
       "      <td>28</td>\n",
       "    </tr>\n",
       "    <tr>\n",
       "      <th>2023-12-20</th>\n",
       "      <td>27</td>\n",
       "      <td>25</td>\n",
       "    </tr>\n",
       "    <tr>\n",
       "      <th>2023-12-21</th>\n",
       "      <td>70</td>\n",
       "      <td>61</td>\n",
       "    </tr>\n",
       "    <tr>\n",
       "      <th>2023-12-22</th>\n",
       "      <td>32</td>\n",
       "      <td>30</td>\n",
       "    </tr>\n",
       "    <tr>\n",
       "      <th>2023-12-26</th>\n",
       "      <td>76</td>\n",
       "      <td>68</td>\n",
       "    </tr>\n",
       "    <tr>\n",
       "      <th>2023-12-27</th>\n",
       "      <td>82</td>\n",
       "      <td>65</td>\n",
       "    </tr>\n",
       "    <tr>\n",
       "      <th>2023-12-28</th>\n",
       "      <td>7</td>\n",
       "      <td>7</td>\n",
       "    </tr>\n",
       "    <tr>\n",
       "      <th>2023-12-29</th>\n",
       "      <td>74</td>\n",
       "      <td>41</td>\n",
       "    </tr>\n",
       "  </tbody>\n",
       "</table>\n",
       "</div>"
      ],
      "text/plain": [
       "            count_kofia  count_seibro\n",
       "2023-12-15           54            47\n",
       "2023-12-18           33            27\n",
       "2023-12-19           33            28\n",
       "2023-12-20           27            25\n",
       "2023-12-21           70            61\n",
       "2023-12-22           32            30\n",
       "2023-12-26           76            68\n",
       "2023-12-27           82            65\n",
       "2023-12-28            7             7\n",
       "2023-12-29           74            41"
      ]
     },
     "execution_count": 50,
     "metadata": {},
     "output_type": "execute_result"
    }
   ],
   "source": [
    "print((tm[\"count_kofia\"] == tm[\"count_seibro\"]).sum(), (tm[\"count_kofia\"] != tm[\"count_seibro\"]).sum())\n",
    "print(\n",
    "    (tm[\"count_kofia\"] == tm[\"count_seibro\"]).sum() / tm.shape[0] * 100, \n",
    "    (tm[\"count_kofia\"] != tm[\"count_seibro\"]).sum() / tm.shape[0] * 100, \n",
    ")\n",
    "\n",
    "\n",
    "print((tm[\"count_kofia\"] - tm[\"count_seibro\"]).sum())\n",
    "print((tm[\"count_kofia\"] > tm[\"count_seibro\"]).sum())\n",
    "\n",
    "print(tm.shape)\n",
    "tm.tail(10)"
   ]
  },
  {
   "cell_type": "code",
   "execution_count": 53,
   "metadata": {},
   "outputs": [
    {
     "data": {
      "text/plain": [
       "kofia_larger\n",
       " 1   47.39483\n",
       "-1   29.29371\n",
       " 0   23.31146\n",
       "Name: count, dtype: float64"
      ]
     },
     "execution_count": 53,
     "metadata": {},
     "output_type": "execute_result"
    }
   ],
   "source": [
    "tm[\"kofia_larger\"].value_counts() / tm.shape[0] * 100"
   ]
  },
  {
   "cell_type": "code",
   "execution_count": 58,
   "metadata": {},
   "outputs": [
    {
     "data": {
      "text/plain": [
       "5.337947882736156"
      ]
     },
     "execution_count": 58,
     "metadata": {},
     "output_type": "execute_result"
    }
   ],
   "source": [
    "tm.loc[tm[\"kofia_larger\"] == 1][\"diff\"].sum() / tm.loc[tm[\"kofia_larger\"] == 1].shape[0]"
   ]
  },
  {
   "cell_type": "code",
   "execution_count": 60,
   "metadata": {},
   "outputs": [
    {
     "data": {
      "text/plain": [
       "-4.770750988142293"
      ]
     },
     "execution_count": 60,
     "metadata": {},
     "output_type": "execute_result"
    }
   ],
   "source": [
    "tm.loc[tm[\"kofia_larger\"] == -1][\"diff\"].sum() / tm.loc[tm[\"kofia_larger\"] == -1].shape[0]"
   ]
  },
  {
   "cell_type": "code",
   "execution_count": null,
   "metadata": {},
   "outputs": [],
   "source": []
  }
 ],
 "metadata": {
  "kernelspec": {
   "display_name": "Python 3",
   "language": "python",
   "name": "python3"
  },
  "language_info": {
   "codemirror_mode": {
    "name": "ipython",
    "version": 3
   },
   "file_extension": ".py",
   "mimetype": "text/x-python",
   "name": "python",
   "nbconvert_exporter": "python",
   "pygments_lexer": "ipython3",
   "version": "3.11.4"
  }
 },
 "nbformat": 4,
 "nbformat_minor": 2
}
